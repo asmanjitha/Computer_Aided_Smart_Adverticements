{
 "cells": [
  {
   "cell_type": "code",
   "execution_count": 1,
   "id": "cc9a4141",
   "metadata": {},
   "outputs": [],
   "source": [
    "import numpy as np  # Data manipulation\n",
    "import pandas as pd # Dataframe manipulation \n",
    "import matplotlib.pyplot as plt # Plotting the data and the results\n",
    "import matplotlib.image as mpimg # For displaying imagees\n",
    "%matplotlib inline\n",
    "\n",
    "import tensorflow as tf\n",
    "from tensorflow import keras\n",
    "from tensorflow.keras.applications import Xception\n",
    "from tensorflow.keras.models import Sequential\n",
    "from tensorflow.keras.layers import Dense, Flatten, BatchNormalization\n",
    "from tensorflow.keras.preprocessing.image import ImageDataGenerator\n",
    "from tensorflow.keras.preprocessing.image import load_img, img_to_array"
   ]
  },
  {
   "cell_type": "code",
   "execution_count": 2,
   "id": "464037ff",
   "metadata": {},
   "outputs": [
    {
     "name": "stdout",
     "output_type": "stream",
     "text": [
      "(249, 249, 3)\n"
     ]
    }
   ],
   "source": [
    "size = 249\n",
    "target_size = (size,size,3)\n",
    "print(target_size)"
   ]
  },
  {
   "cell_type": "code",
   "execution_count": 3,
   "id": "2e4522cf",
   "metadata": {},
   "outputs": [
    {
     "name": "stdout",
     "output_type": "stream",
     "text": [
      "Found 47006 images belonging to 2 classes.\n"
     ]
    }
   ],
   "source": [
    "train_datagen1 = ImageDataGenerator(horizontal_flip=True,\n",
    "                                   width_shift_range=0.4,\n",
    "                                   height_shift_range=0.4,\n",
    "                                   zoom_range=0.3,\n",
    "                                   rotation_range=20,\n",
    "                                   rescale=1./255)\n",
    "\n",
    "train_gen1 = train_datagen1.flow_from_directory('./input/gender-classification-dataset/Training',\n",
    "                                              target_size=(size,size),\n",
    "                                              batch_size=32,\n",
    "                                              class_mode='binary')"
   ]
  },
  {
   "cell_type": "code",
   "execution_count": 4,
   "id": "350d5f2e",
   "metadata": {},
   "outputs": [
    {
     "name": "stdout",
     "output_type": "stream",
     "text": [
      "Found 11649 images belonging to 2 classes.\n"
     ]
    }
   ],
   "source": [
    "test_datagen1 = ImageDataGenerator(rescale=1./255)\n",
    "\n",
    "test_gen1 = test_datagen1.flow_from_directory('./input/gender-classification-dataset/Validation',\n",
    "                                              target_size=(size,size),\n",
    "                                              batch_size=32,\n",
    "                                              class_mode='binary')"
   ]
  },
  {
   "cell_type": "code",
   "execution_count": 9,
   "id": "62fe4fde",
   "metadata": {},
   "outputs": [],
   "source": [
    "#base\n",
    "model = Sequential()\n",
    "model.add(Xception(include_top=False, pooling='avg', weights='imagenet', input_shape=target_size))\n",
    "model.add(Flatten())\n",
    "model.add(BatchNormalization())\n",
    "#head\n",
    "model.add(Dense(2048, activation='relu'))\n",
    "model.add(BatchNormalization())\n",
    "model.add(Dense(1024, activation='relu'))\n",
    "model.add(BatchNormalization())\n",
    "\n",
    "model.add(Dense(1, activation='sigmoid'))\n",
    "\n",
    "model.layers[0].trainable = False"
   ]
  },
  {
   "cell_type": "code",
   "execution_count": 10,
   "id": "baaae3ef",
   "metadata": {},
   "outputs": [
    {
     "name": "stdout",
     "output_type": "stream",
     "text": [
      "Model: \"sequential\"\n",
      "_________________________________________________________________\n",
      " Layer (type)                Output Shape              Param #   \n",
      "=================================================================\n",
      " xception (Functional)       (None, 2048)              20861480  \n",
      "                                                                 \n",
      " flatten (Flatten)           (None, 2048)              0         \n",
      "                                                                 \n",
      " batch_normalization_4 (Batc  (None, 2048)             8192      \n",
      " hNormalization)                                                 \n",
      "                                                                 \n",
      " dense (Dense)               (None, 2048)              4196352   \n",
      "                                                                 \n",
      " batch_normalization_5 (Batc  (None, 2048)             8192      \n",
      " hNormalization)                                                 \n",
      "                                                                 \n",
      " dense_1 (Dense)             (None, 1024)              2098176   \n",
      "                                                                 \n",
      " batch_normalization_6 (Batc  (None, 1024)             4096      \n",
      " hNormalization)                                                 \n",
      "                                                                 \n",
      " dense_2 (Dense)             (None, 1)                 1025      \n",
      "                                                                 \n",
      "=================================================================\n",
      "Total params: 27,177,513\n",
      "Trainable params: 6,305,793\n",
      "Non-trainable params: 20,871,720\n",
      "_________________________________________________________________\n"
     ]
    }
   ],
   "source": [
    "model.summary()\n",
    "model.compile(optimizer= 'Adam', loss = 'binary_crossentropy', metrics= 'accuracy')"
   ]
  },
  {
   "cell_type": "code",
   "execution_count": 11,
   "id": "9e998eed",
   "metadata": {},
   "outputs": [],
   "source": [
    "checkpoint = tf.keras.callbacks.ModelCheckpoint('xception_v1_{epoch:02d}_{val_accuracy:.3f}.h5',\n",
    "                                             save_best_only = True,\n",
    "                                             monitor= 'val_accuracy',\n",
    "                                             mode = 'max')"
   ]
  },
  {
   "cell_type": "code",
   "execution_count": 12,
   "id": "d09f5256",
   "metadata": {},
   "outputs": [
    {
     "name": "stdout",
     "output_type": "stream",
     "text": [
      "Epoch 1/12\n",
      "183/183 [==============================] - 324s 2s/step - loss: 0.6150 - accuracy: 0.7788 - val_loss: 0.3149 - val_accuracy: 0.9181\n",
      "Epoch 2/12\n",
      "183/183 [==============================] - 298s 2s/step - loss: 0.4201 - accuracy: 0.8198 - val_loss: 0.2382 - val_accuracy: 0.9056\n",
      "Epoch 3/12\n",
      "183/183 [==============================] - 284s 2s/step - loss: 0.3794 - accuracy: 0.8381 - val_loss: 0.2656 - val_accuracy: 0.8958\n",
      "Epoch 4/12\n",
      "183/183 [==============================] - 280s 2s/step - loss: 0.3738 - accuracy: 0.8354 - val_loss: 0.2590 - val_accuracy: 0.8917\n",
      "Epoch 5/12\n",
      "183/183 [==============================] - 278s 2s/step - loss: 0.3642 - accuracy: 0.8405 - val_loss: 0.2323 - val_accuracy: 0.9062\n",
      "Epoch 6/12\n",
      "183/183 [==============================] - 278s 2s/step - loss: 0.3571 - accuracy: 0.8484 - val_loss: 0.2238 - val_accuracy: 0.9097\n",
      "Epoch 7/12\n",
      "183/183 [==============================] - 279s 2s/step - loss: 0.3490 - accuracy: 0.8504 - val_loss: 0.2299 - val_accuracy: 0.9160\n",
      "Epoch 8/12\n",
      "183/183 [==============================] - 279s 2s/step - loss: 0.3471 - accuracy: 0.8528 - val_loss: 0.2312 - val_accuracy: 0.9104\n",
      "Epoch 9/12\n",
      "183/183 [==============================] - 279s 2s/step - loss: 0.3316 - accuracy: 0.8603 - val_loss: 0.2111 - val_accuracy: 0.9201\n",
      "Epoch 10/12\n",
      "183/183 [==============================] - 279s 2s/step - loss: 0.3491 - accuracy: 0.8518 - val_loss: 0.3520 - val_accuracy: 0.8576\n",
      "Epoch 11/12\n",
      "183/183 [==============================] - 270s 1s/step - loss: 0.3543 - accuracy: 0.8499 - val_loss: 0.3738 - val_accuracy: 0.8271\n",
      "Epoch 12/12\n",
      "183/183 [==============================] - 271s 1s/step - loss: 0.3447 - accuracy: 0.8555 - val_loss: 0.1997 - val_accuracy: 0.9285\n"
     ]
    }
   ],
   "source": [
    "epochs = 12\n",
    "batch_size=256\n",
    "history1 = model.fit(train_gen1, epochs= epochs, validation_data= test_gen1,\n",
    "                    steps_per_epoch= len(train_gen1.filenames)//batch_size,\n",
    "                    validation_steps= len(test_gen1.filenames)//batch_size,\n",
    "                    callbacks= [checkpoint]\n",
    "                    )"
   ]
  },
  {
   "cell_type": "code",
   "execution_count": 13,
   "id": "91183049",
   "metadata": {},
   "outputs": [
    {
     "data": {
      "text/plain": [
       "<Figure size 432x288 with 0 Axes>"
      ]
     },
     "execution_count": 13,
     "metadata": {},
     "output_type": "execute_result"
    },
    {
     "data": {
      "image/png": "[encoded data removed]",
      "text/plain": [
       "<Figure size 432x288 with 1 Axes>"
      ]
     },
     "metadata": {
      "needs_background": "light"
     },
     "output_type": "display_data"
    },
    {
     "data": {
      "image/png": "[encoded data removed]",
      "text/plain": [
       "<Figure size 432x288 with 1 Axes>"
      ]
     },
     "metadata": {
      "needs_background": "light"
     },
     "output_type": "display_data"
    },
    {
     "data": {
      "text/plain": [
       "<Figure size 432x288 with 0 Axes>"
      ]
     },
     "metadata": {},
     "output_type": "display_data"
    }
   ],
   "source": [
    "acc = history1.history['accuracy']\n",
    "val_acc = history1.history['val_accuracy']\n",
    "loss = history1.history['loss']\n",
    "val_loss = history1.history['val_loss']\n",
    "epochs = range(1, len(acc) + 1)\n",
    "plt.plot(epochs, acc, 'bo', label='Training accuracy')\n",
    "plt.plot(epochs, val_acc, 'ro', label='Validation accuracy')\n",
    "plt.title('Training and validation accuracy')\n",
    "plt.legend()\n",
    "plt.figure()\n",
    "\n",
    "plt.plot(epochs, loss, 'bo', label='Training loss')\n",
    "plt.plot(epochs, val_loss, 'ro', label='Validation loss')\n",
    "plt.title('Training and validation loss')\n",
    "plt.legend()\n",
    "plt.figure()"
   ]
  },
  {
   "cell_type": "code",
   "execution_count": 14,
   "id": "37257131",
   "metadata": {},
   "outputs": [
    {
     "name": "stdout",
     "output_type": "stream",
     "text": [
      "50/50 [==============================] - 56s 1s/step - loss: 0.2321 - accuracy: 0.9106\n",
      "test acc: 0.9106249809265137\n",
      "test_loss: 0.2320980280637741\n"
     ]
    }
   ],
   "source": [
    "test_loss, test_acc = model.evaluate(test_gen1, steps=50)\n",
    "print('test acc:', test_acc)\n",
    "print('test_loss:',test_loss)"
   ]
  }
 ],
 "metadata": {
  "kernelspec": {
   "display_name": "Python 3 (ipykernel)",
   "language": "python",
   "name": "python3"
  },
  "language_info": {
   "codemirror_mode": {
    "name": "ipython",
    "version": 3
   },
   "file_extension": ".py",
   "mimetype": "text/x-python",
   "name": "python",
   "nbconvert_exporter": "python",
   "pygments_lexer": "ipython3",
   "version": "3.7.11"
  }
 },
 "nbformat": 4,
 "nbformat_minor": 5
}
