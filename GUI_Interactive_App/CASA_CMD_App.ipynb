{
 "cells": [
  {
   "cell_type": "code",
   "execution_count": null,
   "id": "d7370e6b",
   "metadata": {},
   "outputs": [],
   "source": [
    "import cv2\n",
    "import math\n",
    "import time\n",
    "import argparse"
   ]
  },
  {
   "cell_type": "code",
   "execution_count": null,
   "id": "8e8e0097",
   "metadata": {},
   "outputs": [],
   "source": [
    "def getFaceBox(net, frame,conf_threshold = 0.75):\n",
    "    frameOpencvDnn = frame.copy()\n",
    "    frameHeight = frameOpencvDnn.shape[0]\n",
    "    frameWidth = frameOpencvDnn.shape[1]\n",
    "    blob = cv2.dnn.blobFromImage(frameOpencvDnn,1.0,(300,300),\n",
    "                                 [104, 117, 123], True, False)\n",
    "\n",
    "    net.setInput(blob)\n",
    "    detections = net.forward()\n",
    "    bboxes = []\n",
    "\n",
    "    for i in range(detections.shape[2]):\n",
    "        confidence = detections[0,0,i,2]\n",
    "        if confidence > conf_threshold:\n",
    "            x1 = int(detections[0,0,i,3]* frameWidth)\n",
    "            y1 = int(detections[0,0,i,4]* frameHeight)\n",
    "            x2 = int(detections[0,0,i,5]* frameWidth)\n",
    "            y2 = int(detections[0,0,i,6]* frameHeight)\n",
    "            bboxes.append([x1,y1,x2,y2])\n",
    "            cv2.rectangle(frameOpencvDnn,(x1,y1),(x2,y2),(0,255,0),\n",
    "                          int(round(frameHeight/150)),8)\n",
    "\n",
    "    return frameOpencvDnn , bboxes\n"
   ]
  },
  {
   "cell_type": "code",
   "execution_count": null,
   "id": "04133675",
   "metadata": {},
   "outputs": [],
   "source": []
  }
 ],
 "metadata": {
  "kernelspec": {
   "display_name": "Python 3 (ipykernel)",
   "language": "python",
   "name": "python3"
  },
  "language_info": {
   "codemirror_mode": {
    "name": "ipython",
    "version": 3
   },
   "file_extension": ".py",
   "mimetype": "text/x-python",
   "name": "python",
   "nbconvert_exporter": "python",
   "pygments_lexer": "ipython3",
   "version": "3.7.11"
  }
 },
 "nbformat": 4,
 "nbformat_minor": 5
}
