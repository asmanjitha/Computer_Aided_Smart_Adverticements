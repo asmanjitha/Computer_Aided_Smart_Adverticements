{
 "cells": [
  {
   "cell_type": "code",
   "execution_count": 5,
   "metadata": {
    "colab": {
     "base_uri": "https://localhost:8080/",
     "height": 51
    },
    "colab_type": "code",
    "executionInfo": {
     "elapsed": 28045,
     "status": "ok",
     "timestamp": 1593230381615,
     "user": {
      "displayName": "Prerak Agarwal",
      "photoUrl": "",
      "userId": "01206615471624868818"
     },
     "user_tz": -480
    },
    "id": "tA5KCtVlm5Mx",
    "outputId": "c21b90dc-7e6c-4e9f-aca2-176051412bdd"
   },
   "outputs": [],
   "source": [
    "# Imports\n",
    "\n",
    "from zipfile import ZipFile\n",
    "import os\n",
    "import shutil\n",
    "import numpy as np\n",
    "import pandas as pd\n",
    "import matplotlib.pyplot as plt\n",
    "import seaborn as sns\n",
    "import cv2"
   ]
  },
  {
   "cell_type": "code",
   "execution_count": 10,
   "metadata": {
    "colab": {},
    "colab_type": "code",
    "id": "XBXumCbsCLLj"
   },
   "outputs": [],
   "source": [
    "# Accessing all folder names to get list of labels.\n",
    "\n",
    "facial_age_path = \"./Dataset/facial-age\"\n",
    "facial_age_folders = os.listdir(facial_age_path)"
   ]
  },
  {
   "cell_type": "code",
   "execution_count": 11,
   "metadata": {
    "colab": {
     "base_uri": "https://localhost:8080/",
     "height": 221
    },
    "colab_type": "code",
    "executionInfo": {
     "elapsed": 1404,
     "status": "ok",
     "timestamp": 1593230838612,
     "user": {
      "displayName": "Prerak Agarwal",
      "photoUrl": "",
      "userId": "01206615471624868818"
     },
     "user_tz": -480
    },
    "id": "E9crJEY1rg2s",
    "outputId": "f15c20f9-7c42-4b2e-c268-2e87c7d925a4"
   },
   "outputs": [
    {
     "data": {
      "text/plain": [
       "array(['001', '002', '003', '004', '005', '006', '007', '008', '009',\n",
       "       '010', '011', '012', '013', '014', '015', '016', '017', '018',\n",
       "       '019', '020', '021', '022', '023', '024', '025', '026', '027',\n",
       "       '028', '029', '030', '031', '032', '033', '034', '035', '036',\n",
       "       '037', '038', '039', '040', '041', '042', '043', '044', '045',\n",
       "       '046', '047', '048', '049', '050', '051', '052', '053', '054',\n",
       "       '055', '056', '057', '058', '059', '060', '061', '062', '063',\n",
       "       '064', '065', '066', '067', '068', '069', '070', '071', '072',\n",
       "       '073', '074', '075', '076', '077', '078', '079', '080', '081',\n",
       "       '082', '083', '084', '085', '086', '087', '088', '089', '090',\n",
       "       '091', '092', '093', '095', '096', '099', '100', '101', '110'],\n",
       "      dtype='<U3')"
      ]
     },
     "execution_count": 11,
     "metadata": {},
     "output_type": "execute_result"
    }
   ],
   "source": [
    "# Sorting the folder names (age labels) in ascending order.\n",
    "\n",
    "facial_age_folders = np.sort(facial_age_folders)\n",
    "facial_age_folders"
   ]
  },
  {
   "cell_type": "code",
   "execution_count": 12,
   "metadata": {
    "colab": {},
    "colab_type": "code",
    "id": "Xb4-Z2_XnbTL"
   },
   "outputs": [
    {
     "name": "stdout",
     "output_type": "stream",
     "text": [
      "001\n",
      "002\n",
      "003\n",
      "004\n",
      "005\n",
      "006\n",
      "007\n",
      "008\n",
      "009\n",
      "010\n",
      "011\n",
      "012\n",
      "013\n",
      "014\n",
      "015\n",
      "016\n",
      "017\n",
      "018\n",
      "019\n",
      "020\n",
      "021\n",
      "022\n",
      "023\n",
      "024\n",
      "025\n",
      "026\n",
      "027\n",
      "028\n",
      "029\n",
      "030\n",
      "031\n",
      "032\n",
      "033\n",
      "034\n",
      "035\n",
      "036\n",
      "037\n",
      "038\n",
      "039\n",
      "040\n",
      "041\n",
      "042\n",
      "043\n",
      "044\n",
      "045\n",
      "046\n",
      "047\n",
      "048\n",
      "049\n",
      "050\n",
      "051\n",
      "052\n",
      "053\n",
      "054\n",
      "055\n",
      "056\n",
      "057\n",
      "058\n",
      "059\n",
      "060\n",
      "061\n",
      "062\n",
      "063\n",
      "064\n",
      "065\n",
      "066\n",
      "067\n",
      "068\n",
      "069\n",
      "070\n",
      "071\n",
      "072\n",
      "073\n",
      "074\n",
      "075\n",
      "076\n",
      "077\n",
      "078\n",
      "079\n",
      "080\n",
      "081\n",
      "082\n",
      "083\n",
      "084\n",
      "085\n",
      "086\n",
      "087\n",
      "088\n",
      "089\n",
      "090\n",
      "091\n",
      "092\n",
      "093\n",
      "095\n",
      "096\n",
      "099\n",
      "100\n",
      "101\n",
      "110\n"
     ]
    }
   ],
   "source": [
    "# Accessing the images inside every folder and storing the info in a dictionary with\n",
    "# the age labels (folder name) as keys and the no. of images in each folder as values.\n",
    "\n",
    "facial_age_images = {}\n",
    "\n",
    "for age in facial_age_folders:\n",
    "    temp_path = os.path.join(facial_age_path, age)\n",
    "    n_images = len(os.listdir(temp_path))\n",
    "    facial_age_images[int(age)] = n_images"
   ]
  },
  {
   "cell_type": "code",
   "execution_count": 13,
   "metadata": {
    "colab": {
     "base_uri": "https://localhost:8080/",
     "height": 34
    },
    "colab_type": "code",
    "executionInfo": {
     "elapsed": 734,
     "status": "ok",
     "timestamp": 1593230842884,
     "user": {
      "displayName": "Prerak Agarwal",
      "photoUrl": "",
      "userId": "01206615471624868818"
     },
     "user_tz": -480
    },
    "id": "JemI4B_cpXw1",
    "outputId": "019f1587-b75f-4888-967c-f37d985750d7"
   },
   "outputs": [
    {
     "data": {
      "text/plain": [
       "1112"
      ]
     },
     "execution_count": 13,
     "metadata": {},
     "output_type": "execute_result"
    }
   ],
   "source": [
    "# Accessing the dictionary to get no. of images corresponding to age 1 in facial-age dataset.\n",
    "\n",
    "facial_age_images[1]"
   ]
  },
  {
   "cell_type": "code",
   "execution_count": 14,
   "metadata": {
    "colab": {
     "base_uri": "https://localhost:8080/",
     "height": 34
    },
    "colab_type": "code",
    "executionInfo": {
     "elapsed": 876,
     "status": "ok",
     "timestamp": 1593230845526,
     "user": {
      "displayName": "Prerak Agarwal",
      "photoUrl": "",
      "userId": "01206615471624868818"
     },
     "user_tz": -480
    },
    "id": "0Q8O4buVqarz",
    "outputId": "d577389f-3415-4eeb-95d1-e495c9ee7e29"
   },
   "outputs": [
    {
     "data": {
      "text/plain": [
       "9778"
      ]
     },
     "execution_count": 14,
     "metadata": {},
     "output_type": "execute_result"
    }
   ],
   "source": [
    "# Checking total no. of images to ensure correctness of above code.\n",
    "# Total no. of images in facial-age dataset is 9778.\n",
    "\n",
    "sum(facial_age_images.values())"
   ]
  },
  {
   "cell_type": "code",
   "execution_count": 17,
   "metadata": {
    "colab": {},
    "colab_type": "code",
    "id": "wExrBD_CDHnQ"
   },
   "outputs": [],
   "source": [
    "# Accessing all image file names so as to be able to separate the age labels.\n",
    "\n",
    "utkface_path = './Dataset/UTKFace'\n",
    "utkface_image_names = os.listdir(utkface_path)"
   ]
  },
  {
   "cell_type": "code",
   "execution_count": 18,
   "metadata": {
    "colab": {
     "base_uri": "https://localhost:8080/",
     "height": 34
    },
    "colab_type": "code",
    "executionInfo": {
     "elapsed": 2259,
     "status": "ok",
     "timestamp": 1593230853617,
     "user": {
      "displayName": "Prerak Agarwal",
      "photoUrl": "",
      "userId": "01206615471624868818"
     },
     "user_tz": -480
    },
    "id": "T8EWeHywDnrc",
    "outputId": "151f9e76-c660-4b16-9cf4-09eaff1b92c1"
   },
   "outputs": [
    {
     "data": {
      "text/plain": [
       "23708"
      ]
     },
     "execution_count": 18,
     "metadata": {},
     "output_type": "execute_result"
    }
   ],
   "source": [
    "# Checking total no. of images to ensure correctness of above code.\n",
    "# Total no. of images in UTKFace dataset is 23708.\n",
    "\n",
    "len(utkface_image_names)"
   ]
  },
  {
   "cell_type": "code",
   "execution_count": 19,
   "metadata": {
    "colab": {},
    "colab_type": "code",
    "id": "gh1MriJuDnop"
   },
   "outputs": [],
   "source": [
    "# Defining a function to generate the labels from the image file names according to the format given above.\n",
    "\n",
    "def age_gender_race_split(image_name):\n",
    "    image_labels = image_name.split('_')\n",
    "    age = image_labels[0]\n",
    "    gender = image_labels[1]\n",
    "    race = image_labels[2]\n",
    "\n",
    "    return (age, gender, race)"
   ]
  },
  {
   "cell_type": "code",
   "execution_count": 20,
   "metadata": {
    "colab": {},
    "colab_type": "code",
    "id": "K-eTJqyMDnlx"
   },
   "outputs": [],
   "source": [
    "# Applying the above function on each image file name using a for loop and storing the labels in relevant arrays.\n",
    "\n",
    "utkface_age_labels = np.array([])\n",
    "utkface_gender_labels = np.array([])\n",
    "utkface_race_labels = np.array([])\n",
    "\n",
    "for image in utkface_image_names:\n",
    "    age, gender, race = age_gender_race_split(image)\n",
    "    utkface_age_labels = np.append(utkface_age_labels, age)\n",
    "    utkface_gender_labels = np.append(utkface_gender_labels, gender)\n",
    "    utkface_race_labels = np.append(utkface_race_labels, race)"
   ]
  },
  {
   "cell_type": "code",
   "execution_count": 21,
   "metadata": {
    "colab": {
     "base_uri": "https://localhost:8080/",
     "height": 221
    },
    "colab_type": "code",
    "executionInfo": {
     "elapsed": 18627,
     "status": "ok",
     "timestamp": 1593230879792,
     "user": {
      "displayName": "Prerak Agarwal",
      "photoUrl": "",
      "userId": "01206615471624868818"
     },
     "user_tz": -480
    },
    "id": "zOwMp-q8DnjQ",
    "outputId": "6328abb7-3e96-49cb-c026-319a0b8c4894"
   },
   "outputs": [
    {
     "data": {
      "text/plain": [
       "26     2197\n",
       "1      1123\n",
       "28      918\n",
       "35      880\n",
       "24      859\n",
       "       ... \n",
       "115       3\n",
       "91        2\n",
       "101       2\n",
       "103       1\n",
       "111       1\n",
       "Length: 104, dtype: int64"
      ]
     },
     "execution_count": 21,
     "metadata": {},
     "output_type": "execute_result"
    }
   ],
   "source": [
    "# Grouping by the age labels and checking the no. of images per age label.\n",
    "\n",
    "utkface_ages_counts = pd.Series(utkface_age_labels).value_counts()\n",
    "utkface_ages_counts"
   ]
  },
  {
   "cell_type": "code",
   "execution_count": 22,
   "metadata": {
    "colab": {},
    "colab_type": "code",
    "id": "5i3vi_oPY9El"
   },
   "outputs": [],
   "source": [
    "# Storing the grouped age labels series generated above in a dictionary with\n",
    "# the age labels as keys and the no. of images per age label as values.\n",
    "\n",
    "utkface_images = {}\n",
    "\n",
    "for age, counts in utkface_ages_counts.items():\n",
    "    utkface_images[int(age)] = counts"
   ]
  },
  {
   "cell_type": "code",
   "execution_count": 23,
   "metadata": {
    "colab": {
     "base_uri": "https://localhost:8080/",
     "height": 34
    },
    "colab_type": "code",
    "executionInfo": {
     "elapsed": 654,
     "status": "ok",
     "timestamp": 1593230884900,
     "user": {
      "displayName": "Prerak Agarwal",
      "photoUrl": "",
      "userId": "01206615471624868818"
     },
     "user_tz": -480
    },
    "id": "pOI9aQMsbGru",
    "outputId": "45d4ecb5-691a-4dd3-80e0-a591e1d32b19"
   },
   "outputs": [
    {
     "data": {
      "text/plain": [
       "1123"
      ]
     },
     "execution_count": 23,
     "metadata": {},
     "output_type": "execute_result"
    }
   ],
   "source": [
    "# Accessing the dictionary to get no. of images corresponding to age 1 in UTKFace dataset.\n",
    "\n",
    "utkface_images[1]"
   ]
  },
  {
   "cell_type": "code",
   "execution_count": 24,
   "metadata": {
    "colab": {
     "base_uri": "https://localhost:8080/",
     "height": 34
    },
    "colab_type": "code",
    "executionInfo": {
     "elapsed": 778,
     "status": "ok",
     "timestamp": 1593230887668,
     "user": {
      "displayName": "Prerak Agarwal",
      "photoUrl": "",
      "userId": "01206615471624868818"
     },
     "user_tz": -480
    },
    "id": "Us2ihejBbG4z",
    "outputId": "cb107b78-9c50-475c-98b3-4de8acda4e59"
   },
   "outputs": [
    {
     "data": {
      "text/plain": [
       "23708"
      ]
     },
     "execution_count": 24,
     "metadata": {},
     "output_type": "execute_result"
    }
   ],
   "source": [
    "# Checking total no. of images to ensure correctness of above code.\n",
    "# Total no. of images in UTKFace dataset is 23708.\n",
    "\n",
    "sum(utkface_images.values())"
   ]
  },
  {
   "cell_type": "code",
   "execution_count": 25,
   "metadata": {
    "colab": {
     "base_uri": "https://localhost:8080/",
     "height": 68
    },
    "colab_type": "code",
    "executionInfo": {
     "elapsed": 919,
     "status": "ok",
     "timestamp": 1593230889502,
     "user": {
      "displayName": "Prerak Agarwal",
      "photoUrl": "",
      "userId": "01206615471624868818"
     },
     "user_tz": -480
    },
    "id": "WiCtOcGJDngW",
    "outputId": "33a469dc-ac3b-4e05-8904-9129d6631f30"
   },
   "outputs": [
    {
     "data": {
      "text/plain": [
       "0    12391\n",
       "1    11317\n",
       "dtype: int64"
      ]
     },
     "execution_count": 25,
     "metadata": {},
     "output_type": "execute_result"
    }
   ],
   "source": [
    "# Grouping by the gender labels and checking the no. of images per gender label.\n",
    "# 0 = Male, 1 = Female\n",
    "# This is just for extra info and will not be used in the model.\n",
    "\n",
    "pd.Series(utkface_gender_labels).value_counts()"
   ]
  },
  {
   "cell_type": "code",
   "execution_count": 26,
   "metadata": {
    "colab": {
     "base_uri": "https://localhost:8080/",
     "height": 170
    },
    "colab_type": "code",
    "executionInfo": {
     "elapsed": 749,
     "status": "ok",
     "timestamp": 1593230893067,
     "user": {
      "displayName": "Prerak Agarwal",
      "photoUrl": "",
      "userId": "01206615471624868818"
     },
     "user_tz": -480
    },
    "id": "6hTSyYvCDnc9",
    "outputId": "fb5617af-1abc-4bf4-c8c4-a4012ccca5a9"
   },
   "outputs": [
    {
     "data": {
      "text/plain": [
       "0                                 10078\n",
       "1                                  4526\n",
       "3                                  3975\n",
       "2                                  3434\n",
       "4                                  1692\n",
       "20170116174525125.jpg.chip.jpg        1\n",
       "20170109142408075.jpg.chip.jpg        1\n",
       "20170109150557335.jpg.chip.jpg        1\n",
       "dtype: int64"
      ]
     },
     "execution_count": 26,
     "metadata": {},
     "output_type": "execute_result"
    }
   ],
   "source": [
    "# Grouping by the race labels and checking the no. of images per race label.\n",
    "# 0 = White, 1 = Black, 2 = Asian, 3 = Indian, 4 = Others (like Hispanic, Latino, Middle Eastern)\n",
    "# This is just for extra info and will not be used in the model.\n",
    "\n",
    "pd.Series(utkface_race_labels).value_counts()\n",
    "\n",
    "# 3 images don't have race labels in their file name, as seen below."
   ]
  },
  {
   "cell_type": "code",
   "execution_count": 27,
   "metadata": {
    "colab": {
     "base_uri": "https://localhost:8080/",
     "height": 34
    },
    "colab_type": "code",
    "executionInfo": {
     "elapsed": 1326,
     "status": "ok",
     "timestamp": 1593230911465,
     "user": {
      "displayName": "Prerak Agarwal",
      "photoUrl": "",
      "userId": "01206615471624868818"
     },
     "user_tz": -480
    },
    "id": "lpEJMRIqdvX_",
    "outputId": "fe257c25-80ba-40dc-b8e8-d180449617dd"
   },
   "outputs": [
    {
     "data": {
      "text/plain": [
       "99"
      ]
     },
     "execution_count": 27,
     "metadata": {},
     "output_type": "execute_result"
    }
   ],
   "source": [
    "# Checking no. of unique age values in facial-age dataset.\n",
    "\n",
    "facial_age_ages = list(facial_age_images.keys())\n",
    "len(facial_age_ages)"
   ]
  },
  {
   "cell_type": "code",
   "execution_count": 28,
   "metadata": {
    "colab": {
     "base_uri": "https://localhost:8080/",
     "height": 34
    },
    "colab_type": "code",
    "executionInfo": {
     "elapsed": 1113,
     "status": "ok",
     "timestamp": 1593230912385,
     "user": {
      "displayName": "Prerak Agarwal",
      "photoUrl": "",
      "userId": "01206615471624868818"
     },
     "user_tz": -480
    },
    "id": "QV6RVkcZdvgU",
    "outputId": "d0905a79-9c2b-47c7-a3a4-0dcd7323d1f6"
   },
   "outputs": [
    {
     "data": {
      "text/plain": [
       "104"
      ]
     },
     "execution_count": 28,
     "metadata": {},
     "output_type": "execute_result"
    }
   ],
   "source": [
    "# Checking no. of unique age values in UTKFace dataset.\n",
    "\n",
    "utkface_ages = list(utkface_images.keys())\n",
    "len(utkface_ages)"
   ]
  },
  {
   "cell_type": "code",
   "execution_count": 29,
   "metadata": {
    "colab": {},
    "colab_type": "code",
    "id": "CvgSP72UfnZZ"
   },
   "outputs": [],
   "source": [
    "# Combining the lists of age values from the two datasets and\n",
    "# converting the combined list to a set to keep only the unique age values.\n",
    "\n",
    "facial_age_ages.extend(utkface_ages)\n",
    "unique_ages = set(facial_age_ages)"
   ]
  },
  {
   "cell_type": "code",
   "execution_count": 30,
   "metadata": {
    "colab": {
     "base_uri": "https://localhost:8080/",
     "height": 34
    },
    "colab_type": "code",
    "executionInfo": {
     "elapsed": 778,
     "status": "ok",
     "timestamp": 1593230916095,
     "user": {
      "displayName": "Prerak Agarwal",
      "photoUrl": "",
      "userId": "01206615471624868818"
     },
     "user_tz": -480
    },
    "id": "mWB8acgMf8EC",
    "outputId": "a0bb721c-1bd9-4fa7-ff2b-b1f5f3e45da8"
   },
   "outputs": [
    {
     "data": {
      "text/plain": [
       "104"
      ]
     },
     "execution_count": 30,
     "metadata": {},
     "output_type": "execute_result"
    }
   ],
   "source": [
    "# Checking no. of unique age values in both datasets combined.\n",
    "\n",
    "len(unique_ages)"
   ]
  },
  {
   "cell_type": "code",
   "execution_count": 31,
   "metadata": {
    "colab": {},
    "colab_type": "code",
    "id": "_riRZZc0dvPZ"
   },
   "outputs": [],
   "source": [
    "# Creating a dictionary of age labels as keys and no. of images per age label in both datasets combined as values,\n",
    "# using the two dictionaries defined above.\n",
    "\n",
    "combined_images = {}\n",
    "\n",
    "for age in unique_ages:\n",
    "    fc_image = 0\n",
    "    utk_image = 0\n",
    "\n",
    "    # Using try-except loop to avoid KeyError in case a particular age value does not exist in the dictionary.\n",
    "    try:\n",
    "        fc_image = facial_age_images[age]\n",
    "    except:\n",
    "        pass\n",
    "    \n",
    "    try:\n",
    "        utk_image = utkface_images[age]\n",
    "    except:\n",
    "        pass\n",
    "    \n",
    "    # Summing up the no. of images for the age label.\n",
    "    combined_images[age] = fc_image + utk_image"
   ]
  },
  {
   "cell_type": "code",
   "execution_count": 32,
   "metadata": {
    "colab": {
     "base_uri": "https://localhost:8080/",
     "height": 34
    },
    "colab_type": "code",
    "executionInfo": {
     "elapsed": 991,
     "status": "ok",
     "timestamp": 1593230924277,
     "user": {
      "displayName": "Prerak Agarwal",
      "photoUrl": "",
      "userId": "01206615471624868818"
     },
     "user_tz": -480
    },
    "id": "x6yihhFKdveP",
    "outputId": "6047db10-350a-43b2-c52a-bdd5989c9f4c"
   },
   "outputs": [
    {
     "data": {
      "text/plain": [
       "33486"
      ]
     },
     "execution_count": 32,
     "metadata": {},
     "output_type": "execute_result"
    }
   ],
   "source": [
    "# Checking total no. of images in both datasets combined to ensure correctness of above code.\n",
    "\n",
    "sum(combined_images.values())"
   ]
  },
  {
   "cell_type": "code",
   "execution_count": 33,
   "metadata": {
    "colab": {
     "base_uri": "https://localhost:8080/",
     "height": 34
    },
    "colab_type": "code",
    "executionInfo": {
     "elapsed": 1156,
     "status": "ok",
     "timestamp": 1593230926410,
     "user": {
      "displayName": "Prerak Agarwal",
      "photoUrl": "",
      "userId": "01206615471624868818"
     },
     "user_tz": -480
    },
    "id": "2yGG73u_dvcq",
    "outputId": "dca70c20-6e8b-47b2-b4e9-f17617472f1c"
   },
   "outputs": [
    {
     "data": {
      "text/plain": [
       "33486"
      ]
     },
     "execution_count": 33,
     "metadata": {},
     "output_type": "execute_result"
    }
   ],
   "source": [
    "# Checking total no. of images by summing up no. of images in facial-age and UTKFace datasets.\n",
    "\n",
    "sum(facial_age_images.values()) + sum(utkface_images.values())"
   ]
  },
  {
   "cell_type": "code",
   "execution_count": 34,
   "metadata": {
    "colab": {
     "base_uri": "https://localhost:8080/",
     "height": 419
    },
    "colab_type": "code",
    "executionInfo": {
     "elapsed": 801,
     "status": "ok",
     "timestamp": 1593230929845,
     "user": {
      "displayName": "Prerak Agarwal",
      "photoUrl": "",
      "userId": "01206615471624868818"
     },
     "user_tz": -480
    },
    "id": "ULOQ4jXyiqKY",
    "outputId": "59a2435c-98aa-4c92-b811-0f27dbc1e672"
   },
   "outputs": [
    {
     "data": {
      "text/html": [
       "<div>\n",
       "<style scoped>\n",
       "    .dataframe tbody tr th:only-of-type {\n",
       "        vertical-align: middle;\n",
       "    }\n",
       "\n",
       "    .dataframe tbody tr th {\n",
       "        vertical-align: top;\n",
       "    }\n",
       "\n",
       "    .dataframe thead th {\n",
       "        text-align: right;\n",
       "    }\n",
       "</style>\n",
       "<table border=\"1\" class=\"dataframe\">\n",
       "  <thead>\n",
       "    <tr style=\"text-align: right;\">\n",
       "      <th></th>\n",
       "      <th>combined_images</th>\n",
       "      <th>facial_age_images</th>\n",
       "      <th>utkface_images</th>\n",
       "    </tr>\n",
       "  </thead>\n",
       "  <tbody>\n",
       "    <tr>\n",
       "      <th>1</th>\n",
       "      <td>2235</td>\n",
       "      <td>1112.0</td>\n",
       "      <td>1123</td>\n",
       "    </tr>\n",
       "    <tr>\n",
       "      <th>2</th>\n",
       "      <td>957</td>\n",
       "      <td>475.0</td>\n",
       "      <td>482</td>\n",
       "    </tr>\n",
       "    <tr>\n",
       "      <th>3</th>\n",
       "      <td>573</td>\n",
       "      <td>284.0</td>\n",
       "      <td>289</td>\n",
       "    </tr>\n",
       "    <tr>\n",
       "      <th>4</th>\n",
       "      <td>533</td>\n",
       "      <td>260.0</td>\n",
       "      <td>273</td>\n",
       "    </tr>\n",
       "    <tr>\n",
       "      <th>5</th>\n",
       "      <td>376</td>\n",
       "      <td>180.0</td>\n",
       "      <td>196</td>\n",
       "    </tr>\n",
       "    <tr>\n",
       "      <th>...</th>\n",
       "      <td>...</td>\n",
       "      <td>...</td>\n",
       "      <td>...</td>\n",
       "    </tr>\n",
       "    <tr>\n",
       "      <th>105</th>\n",
       "      <td>5</td>\n",
       "      <td>NaN</td>\n",
       "      <td>5</td>\n",
       "    </tr>\n",
       "    <tr>\n",
       "      <th>110</th>\n",
       "      <td>7</td>\n",
       "      <td>2.0</td>\n",
       "      <td>5</td>\n",
       "    </tr>\n",
       "    <tr>\n",
       "      <th>111</th>\n",
       "      <td>1</td>\n",
       "      <td>NaN</td>\n",
       "      <td>1</td>\n",
       "    </tr>\n",
       "    <tr>\n",
       "      <th>115</th>\n",
       "      <td>3</td>\n",
       "      <td>NaN</td>\n",
       "      <td>3</td>\n",
       "    </tr>\n",
       "    <tr>\n",
       "      <th>116</th>\n",
       "      <td>4</td>\n",
       "      <td>NaN</td>\n",
       "      <td>4</td>\n",
       "    </tr>\n",
       "  </tbody>\n",
       "</table>\n",
       "<p>104 rows × 3 columns</p>\n",
       "</div>"
      ],
      "text/plain": [
       "     combined_images  facial_age_images  utkface_images\n",
       "1               2235             1112.0            1123\n",
       "2                957              475.0             482\n",
       "3                573              284.0             289\n",
       "4                533              260.0             273\n",
       "5                376              180.0             196\n",
       "..               ...                ...             ...\n",
       "105                5                NaN               5\n",
       "110                7                2.0               5\n",
       "111                1                NaN               1\n",
       "115                3                NaN               3\n",
       "116                4                NaN               4\n",
       "\n",
       "[104 rows x 3 columns]"
      ]
     },
     "execution_count": 34,
     "metadata": {},
     "output_type": "execute_result"
    }
   ],
   "source": [
    "# Creating a dataframe to store the no. of images per age label in facial-age dataset, UTKFace dataset and the combined dataset.\n",
    "\n",
    "images_df = pd.DataFrame(combined_images.values(), index=combined_images.keys(), columns=['combined_images'])\n",
    "images_df['facial_age_images'] = pd.Series(facial_age_images)\n",
    "images_df['utkface_images'] = pd.Series(utkface_images)\n",
    "\n",
    "images_df"
   ]
  },
  {
   "cell_type": "code",
   "execution_count": 35,
   "metadata": {
    "colab": {
     "base_uri": "https://localhost:8080/",
     "height": 419
    },
    "colab_type": "code",
    "executionInfo": {
     "elapsed": 1158,
     "status": "ok",
     "timestamp": 1593230938192,
     "user": {
      "displayName": "Prerak Agarwal",
      "photoUrl": "",
      "userId": "01206615471624868818"
     },
     "user_tz": -480
    },
    "id": "mmqfv6xkdvMr",
    "outputId": "bb590cbe-1732-4af3-9371-6118ddab7f6e"
   },
   "outputs": [
    {
     "data": {
      "text/html": [
       "<div>\n",
       "<style scoped>\n",
       "    .dataframe tbody tr th:only-of-type {\n",
       "        vertical-align: middle;\n",
       "    }\n",
       "\n",
       "    .dataframe tbody tr th {\n",
       "        vertical-align: top;\n",
       "    }\n",
       "\n",
       "    .dataframe thead th {\n",
       "        text-align: right;\n",
       "    }\n",
       "</style>\n",
       "<table border=\"1\" class=\"dataframe\">\n",
       "  <thead>\n",
       "    <tr style=\"text-align: right;\">\n",
       "      <th></th>\n",
       "      <th>combined_images</th>\n",
       "      <th>facial_age_images</th>\n",
       "      <th>utkface_images</th>\n",
       "    </tr>\n",
       "  </thead>\n",
       "  <tbody>\n",
       "    <tr>\n",
       "      <th>1</th>\n",
       "      <td>2235</td>\n",
       "      <td>1112</td>\n",
       "      <td>1123</td>\n",
       "    </tr>\n",
       "    <tr>\n",
       "      <th>2</th>\n",
       "      <td>957</td>\n",
       "      <td>475</td>\n",
       "      <td>482</td>\n",
       "    </tr>\n",
       "    <tr>\n",
       "      <th>3</th>\n",
       "      <td>573</td>\n",
       "      <td>284</td>\n",
       "      <td>289</td>\n",
       "    </tr>\n",
       "    <tr>\n",
       "      <th>4</th>\n",
       "      <td>533</td>\n",
       "      <td>260</td>\n",
       "      <td>273</td>\n",
       "    </tr>\n",
       "    <tr>\n",
       "      <th>5</th>\n",
       "      <td>376</td>\n",
       "      <td>180</td>\n",
       "      <td>196</td>\n",
       "    </tr>\n",
       "    <tr>\n",
       "      <th>...</th>\n",
       "      <td>...</td>\n",
       "      <td>...</td>\n",
       "      <td>...</td>\n",
       "    </tr>\n",
       "    <tr>\n",
       "      <th>105</th>\n",
       "      <td>5</td>\n",
       "      <td>0</td>\n",
       "      <td>5</td>\n",
       "    </tr>\n",
       "    <tr>\n",
       "      <th>110</th>\n",
       "      <td>7</td>\n",
       "      <td>2</td>\n",
       "      <td>5</td>\n",
       "    </tr>\n",
       "    <tr>\n",
       "      <th>111</th>\n",
       "      <td>1</td>\n",
       "      <td>0</td>\n",
       "      <td>1</td>\n",
       "    </tr>\n",
       "    <tr>\n",
       "      <th>115</th>\n",
       "      <td>3</td>\n",
       "      <td>0</td>\n",
       "      <td>3</td>\n",
       "    </tr>\n",
       "    <tr>\n",
       "      <th>116</th>\n",
       "      <td>4</td>\n",
       "      <td>0</td>\n",
       "      <td>4</td>\n",
       "    </tr>\n",
       "  </tbody>\n",
       "</table>\n",
       "<p>104 rows × 3 columns</p>\n",
       "</div>"
      ],
      "text/plain": [
       "     combined_images  facial_age_images  utkface_images\n",
       "1               2235               1112            1123\n",
       "2                957                475             482\n",
       "3                573                284             289\n",
       "4                533                260             273\n",
       "5                376                180             196\n",
       "..               ...                ...             ...\n",
       "105                5                  0               5\n",
       "110                7                  2               5\n",
       "111                1                  0               1\n",
       "115                3                  0               3\n",
       "116                4                  0               4\n",
       "\n",
       "[104 rows x 3 columns]"
      ]
     },
     "execution_count": 35,
     "metadata": {},
     "output_type": "execute_result"
    }
   ],
   "source": [
    "# Imputing the null values in above dataframe with 0s.\n",
    "\n",
    "images_df.fillna(0, inplace=True)\n",
    "images_df = images_df.astype(int)\n",
    "\n",
    "images_df"
   ]
  },
  {
   "cell_type": "code",
   "execution_count": 37,
   "metadata": {
    "colab": {},
    "colab_type": "code",
    "id": "6NTgog2DFAC7"
   },
   "outputs": [],
   "source": [
    "# Exporting above created dataframe as a CSV file.\n",
    "\n",
    "images_df.to_csv(\"./Dataset/images_summary.csv\", index=True, index_label='age')"
   ]
  },
  {
   "cell_type": "code",
   "execution_count": 41,
   "metadata": {
    "colab": {
     "base_uri": "https://localhost:8080/",
     "height": 555
    },
    "colab_type": "code",
    "executionInfo": {
     "elapsed": 4495,
     "status": "ok",
     "timestamp": 1593230974784,
     "user": {
      "displayName": "Prerak Agarwal",
      "photoUrl": "",
      "userId": "01206615471624868818"
     },
     "user_tz": -480
    },
    "id": "6XtHTVCS8XCA",
    "outputId": "96d12153-5648-4a5a-fe25-d66cdabaf967"
   },
   "outputs": [
    {
     "data": {
      "image/png": "[encoded data removed]",
      "text/plain": [
       "<Figure size 2160x720 with 1 Axes>"
      ]
     },
     "metadata": {
      "needs_background": "light"
     },
     "output_type": "display_data"
    }
   ],
   "source": [
    "# Plotting the no. of images by ages in a barplot.\n",
    "\n",
    "plt.figure(figsize=(30, 10))\n",
    "\n",
    "ax = sns.barplot(x=images_df.index, y=images_df['facial_age_images'], color='royalblue')\n",
    "\n",
    "ax.tick_params(axis='both', labelsize=12)\n",
    "ax.tick_params(axis='x', labelrotation=45)\n",
    "\n",
    "plt.xlabel(\"Age\", fontsize=16)\n",
    "plt.ylabel(\"No. of Images\", fontsize=16)\n",
    "\n",
    "plt.title(\"Barplot showing No. of images in facial-age dataset by Age\", fontsize=18)\n",
    "\n",
    "# Exporting plot image in PNG format.\n",
    "plt.savefig('./Plot Images/barplot_facial_age_images.png', bbox_inches='tight');"
   ]
  },
  {
   "cell_type": "code",
   "execution_count": 43,
   "metadata": {
    "colab": {
     "base_uri": "https://localhost:8080/",
     "height": 555
    },
    "colab_type": "code",
    "executionInfo": {
     "elapsed": 4047,
     "status": "ok",
     "timestamp": 1592499975955,
     "user": {
      "displayName": "Prerak Agarwal",
      "photoUrl": "",
      "userId": "01206615471624868818"
     },
     "user_tz": -480
    },
    "id": "e824mGUw6Lds",
    "outputId": "34203364-bd74-4be0-b604-a72a7e756c63"
   },
   "outputs": [
    {
     "data": {
      "image/png": "[encoded data removed]",
      "text/plain": [
       "<Figure size 2160x720 with 1 Axes>"
      ]
     },
     "metadata": {
      "needs_background": "light"
     },
     "output_type": "display_data"
    }
   ],
   "source": [
    "# Plotting the no. of images by ages in a barplot.\n",
    "\n",
    "plt.figure(figsize=(30, 10))\n",
    "\n",
    "ax = sns.barplot(x=images_df.index, y=images_df['utkface_images'], color='royalblue')\n",
    "\n",
    "ax.tick_params(axis='both', labelsize=12)\n",
    "ax.tick_params(axis='x', labelrotation=45)\n",
    "\n",
    "plt.xlabel(\"Age\", fontsize=16)\n",
    "plt.ylabel(\"No. of Images\", fontsize=16)\n",
    "\n",
    "plt.title(\"Barplot showing No. of images in UTKFace dataset by Age\", fontsize=18)\n",
    "\n",
    "# Exporting plot image in PNG format.\n",
    "plt.savefig('./Plot Images/barplot_utkface_images.png', bbox_inches='tight');"
   ]
  },
  {
   "cell_type": "code",
   "execution_count": 44,
   "metadata": {
    "colab": {
     "base_uri": "https://localhost:8080/",
     "height": 555
    },
    "colab_type": "code",
    "executionInfo": {
     "elapsed": 3910,
     "status": "ok",
     "timestamp": 1592499978593,
     "user": {
      "displayName": "Prerak Agarwal",
      "photoUrl": "",
      "userId": "01206615471624868818"
     },
     "user_tz": -480
    },
    "id": "PTjh0Lbf8XdT",
    "outputId": "59c211fc-23ab-4be2-f8e5-601f305011a4"
   },
   "outputs": [
    {
     "data": {
      "image/png": "[encoded data removed]",
      "text/plain": [
       "<Figure size 2160x720 with 1 Axes>"
      ]
     },
     "metadata": {
      "needs_background": "light"
     },
     "output_type": "display_data"
    }
   ],
   "source": [
    "# Plotting the no. of images by ages in a barplot.\n",
    "\n",
    "plt.figure(figsize=(30, 10))\n",
    "\n",
    "ax = sns.barplot(x=images_df.index, y=images_df['combined_images'], color='royalblue')\n",
    "\n",
    "ax.tick_params(axis='both', labelsize=12)\n",
    "ax.tick_params(axis='x', labelrotation=45)\n",
    "\n",
    "plt.xlabel(\"Age\", fontsize=16)\n",
    "plt.ylabel(\"No. of Images\", fontsize=16)\n",
    "\n",
    "plt.title(\"Barplot showing No. of images in Combined datasets (facial-age & UTKFace datasets) by Age\", fontsize=18)\n",
    "\n",
    "# Exporting plot image in PNG format.\n",
    "plt.savefig('./Plot Images/barplot_combined_faces_images.png', bbox_inches='tight');"
   ]
  },
  {
   "cell_type": "code",
   "execution_count": 45,
   "metadata": {
    "colab": {},
    "colab_type": "code",
    "id": "Q3MmUZ-toANG"
   },
   "outputs": [],
   "source": [
    "# Defining a function to split the images in each dataset into n classes (user input).\n",
    "# Function INPUT: Dataset series of no. of images per age index, and n_classes. \n",
    "# Function OUTPUT: Dataset broken up into n_classes with age-ranges, no. of images and proportion balance per class.\n",
    "\n",
    "def split_classes(ser, n_classes):\n",
    "\n",
    "    # Calculating the target number of images per class depending on the total no. of images in the dataset.\n",
    "    n_images = int(sum(ser) / n_classes)\n",
    "\n",
    "    print(f\"Total no. of images in dataset\\t= {sum(ser)}\")\n",
    "    print(f\"No. of classes desired\\t\\t= {n_classes}\")\n",
    "    print(f\"So, target no. of images/class\\t>= {sum(ser)}/{n_classes} = ~{n_images}\")\n",
    "    print()\n",
    "\n",
    "    classes_df = pd.DataFrame(columns=['Age-ranges (classes)', 'No. of images', 'Class balance (%)'])\n",
    "\n",
    "    age_index = 0\n",
    "\n",
    "    for i in range(n_classes):\n",
    "\n",
    "        if age_index<=103:\n",
    "            age_start = ser.index[age_index]\n",
    "            age_current = ser.index[age_index]\n",
    "        else:\n",
    "            break\n",
    "\n",
    "        # Initiating a new variable to keep track of no. of images added to current class.\n",
    "        class_images = 0\n",
    "        \n",
    "\n",
    "        while class_images < n_images:\n",
    "            class_images += ser[age_current]\n",
    "            age_index += 1\n",
    "\n",
    "            # Keeping track of age_index variable so as not to let it go out of index.\n",
    "            if age_index<=103:\n",
    "                age_current = ser.index[age_index]\n",
    "            else:\n",
    "                break\n",
    "\n",
    "\n",
    "        if age_index<=104:\n",
    "            age_end = ser.index[age_index-1]\n",
    "        else:\n",
    "            break\n",
    "        \n",
    "        # Adding the above calculated variables into the dataframe for easier printing and analysis.\n",
    "        classes_df.loc[i, 'Age-ranges (classes)'] = str(age_start)+\" - \"+str(age_end)\n",
    "        classes_df.loc[i, 'No. of images'] = class_images\n",
    "        classes_df.loc[i, 'Class balance (%)'] = round((class_images / sum(ser)) * 100, 2)\n",
    "    \n",
    "    # Calculating some basic statistics about no. of images and the class balance.\n",
    "    mean_images = int(round(np.mean(classes_df.loc[:, 'No. of images'])))\n",
    "    mean_balance = round(np.mean(classes_df.loc[:, 'Class balance (%)']), 2)\n",
    "    std_balance = round(np.std(classes_df.loc[:, 'Class balance (%)']), 2)\n",
    "    \n",
    "    print(f\"Mean no. of images/class\\t= ~{mean_images}\")\n",
    "    print(f\"Mean class balance\\t\\t= {mean_balance}%\")\n",
    "    print(f\"Std. of class balance\\t\\t= {std_balance}%\")\n",
    "    print()\n",
    "\n",
    "    # Returning the dataframe with all the classes info.\n",
    "    return classes_df"
   ]
  },
  {
   "cell_type": "code",
   "execution_count": 46,
   "metadata": {
    "colab": {
     "base_uri": "https://localhost:8080/",
     "height": 495
    },
    "colab_type": "code",
    "executionInfo": {
     "elapsed": 719,
     "status": "ok",
     "timestamp": 1593231009595,
     "user": {
      "displayName": "Prerak Agarwal",
      "photoUrl": "",
      "userId": "01206615471624868818"
     },
     "user_tz": -480
    },
    "id": "CD1QdR8loEqi",
    "outputId": "0ff0ffbf-c2ac-4d31-a35e-8e1c05b62254"
   },
   "outputs": [
    {
     "name": "stdout",
     "output_type": "stream",
     "text": [
      "Total no. of images in dataset\t= 9778\n",
      "No. of classes desired\t\t= 11\n",
      "So, target no. of images/class\t>= 9778/11 = ~888\n",
      "\n",
      "Mean no. of images/class\t= ~978\n",
      "Mean class balance\t\t= 10.0%\n",
      "Std. of class balance\t\t= 1.13%\n",
      "\n"
     ]
    },
    {
     "data": {
      "text/html": [
       "<div>\n",
       "<style scoped>\n",
       "    .dataframe tbody tr th:only-of-type {\n",
       "        vertical-align: middle;\n",
       "    }\n",
       "\n",
       "    .dataframe tbody tr th {\n",
       "        vertical-align: top;\n",
       "    }\n",
       "\n",
       "    .dataframe thead th {\n",
       "        text-align: right;\n",
       "    }\n",
       "</style>\n",
       "<table border=\"1\" class=\"dataframe\">\n",
       "  <thead>\n",
       "    <tr style=\"text-align: right;\">\n",
       "      <th></th>\n",
       "      <th>Age-ranges (classes)</th>\n",
       "      <th>No. of images</th>\n",
       "      <th>Class balance (%)</th>\n",
       "    </tr>\n",
       "  </thead>\n",
       "  <tbody>\n",
       "    <tr>\n",
       "      <th>0</th>\n",
       "      <td>1 - 1</td>\n",
       "      <td>1112</td>\n",
       "      <td>11.37</td>\n",
       "    </tr>\n",
       "    <tr>\n",
       "      <th>1</th>\n",
       "      <td>2 - 4</td>\n",
       "      <td>1019</td>\n",
       "      <td>10.42</td>\n",
       "    </tr>\n",
       "    <tr>\n",
       "      <th>2</th>\n",
       "      <td>5 - 10</td>\n",
       "      <td>955</td>\n",
       "      <td>9.77</td>\n",
       "    </tr>\n",
       "    <tr>\n",
       "      <th>3</th>\n",
       "      <td>11 - 18</td>\n",
       "      <td>1020</td>\n",
       "      <td>10.43</td>\n",
       "    </tr>\n",
       "    <tr>\n",
       "      <th>4</th>\n",
       "      <td>19 - 26</td>\n",
       "      <td>1154</td>\n",
       "      <td>11.8</td>\n",
       "    </tr>\n",
       "    <tr>\n",
       "      <th>5</th>\n",
       "      <td>27 - 34</td>\n",
       "      <td>901</td>\n",
       "      <td>9.21</td>\n",
       "    </tr>\n",
       "    <tr>\n",
       "      <th>6</th>\n",
       "      <td>35 - 45</td>\n",
       "      <td>935</td>\n",
       "      <td>9.56</td>\n",
       "    </tr>\n",
       "    <tr>\n",
       "      <th>7</th>\n",
       "      <td>46 - 56</td>\n",
       "      <td>1017</td>\n",
       "      <td>10.4</td>\n",
       "    </tr>\n",
       "    <tr>\n",
       "      <th>8</th>\n",
       "      <td>57 - 70</td>\n",
       "      <td>924</td>\n",
       "      <td>9.45</td>\n",
       "    </tr>\n",
       "    <tr>\n",
       "      <th>9</th>\n",
       "      <td>71 - 116</td>\n",
       "      <td>741</td>\n",
       "      <td>7.58</td>\n",
       "    </tr>\n",
       "  </tbody>\n",
       "</table>\n",
       "</div>"
      ],
      "text/plain": [
       "  Age-ranges (classes) No. of images Class balance (%)\n",
       "0                1 - 1          1112             11.37\n",
       "1                2 - 4          1019             10.42\n",
       "2               5 - 10           955              9.77\n",
       "3              11 - 18          1020             10.43\n",
       "4              19 - 26          1154              11.8\n",
       "5              27 - 34           901              9.21\n",
       "6              35 - 45           935              9.56\n",
       "7              46 - 56          1017              10.4\n",
       "8              57 - 70           924              9.45\n",
       "9             71 - 116           741              7.58"
      ]
     },
     "execution_count": 46,
     "metadata": {},
     "output_type": "execute_result"
    }
   ],
   "source": [
    "\n",
    "\n",
    "facial_age_classes = split_classes(images_df['facial_age_images'], 11)\n",
    "facial_age_classes"
   ]
  },
  {
   "cell_type": "code",
   "execution_count": 47,
   "metadata": {
    "colab": {
     "base_uri": "https://localhost:8080/",
     "height": 545
    },
    "colab_type": "code",
    "executionInfo": {
     "elapsed": 1751,
     "status": "ok",
     "timestamp": 1593231024422,
     "user": {
      "displayName": "Prerak Agarwal",
      "photoUrl": "",
      "userId": "01206615471624868818"
     },
     "user_tz": -480
    },
    "id": "jfbx5Udp-h8I",
    "outputId": "c9d4319b-9407-4ef7-e5e0-cbd3881bd761"
   },
   "outputs": [
    {
     "data": {
      "image/png": "[encoded data removed]",
      "text/plain": [
       "<Figure size 864x576 with 1 Axes>"
      ]
     },
     "metadata": {
      "needs_background": "light"
     },
     "output_type": "display_data"
    }
   ],
   "source": [
    "\n",
    "\n",
    "plt.figure(figsize=(12, 8))\n",
    "\n",
    "ax = sns.barplot(x=facial_age_classes['Age-ranges (classes)'], y=facial_age_classes['No. of images'], color='royalblue')\n",
    "\n",
    "ax.tick_params(axis='both', labelsize=12)\n",
    "\n",
    "plt.xlabel(\"Age-ranges (classes)\", fontsize=14)\n",
    "plt.ylabel(\"No. of Images\", fontsize=14)\n",
    "\n",
    "plt.title(\"Barplot showing balance of images in different\\nAge-ranges (classes) for facial-age dataset\", fontsize=18)\n",
    "\n",
    "# Exporting plot image in PNG format.\n",
    "plt.savefig('./Plot Images/barplot_facial_age_images_in_classes.png', bbox_inches='tight');"
   ]
  },
  {
   "cell_type": "code",
   "execution_count": 48,
   "metadata": {
    "colab": {
     "base_uri": "https://localhost:8080/",
     "height": 495
    },
    "colab_type": "code",
    "executionInfo": {
     "elapsed": 1063,
     "status": "ok",
     "timestamp": 1593231030298,
     "user": {
      "displayName": "Prerak Agarwal",
      "photoUrl": "",
      "userId": "01206615471624868818"
     },
     "user_tz": -480
    },
    "id": "waq2rm21oEjt",
    "outputId": "84b40afc-615f-4149-f27a-ddae86487601"
   },
   "outputs": [
    {
     "name": "stdout",
     "output_type": "stream",
     "text": [
      "Total no. of images in dataset\t= 23708\n",
      "No. of classes desired\t\t= 11\n",
      "So, target no. of images/class\t>= 23708/11 = ~2155\n",
      "\n",
      "Mean no. of images/class\t= ~2371\n",
      "Mean class balance\t\t= 10.0%\n",
      "Std. of class balance\t\t= 1.36%\n",
      "\n"
     ]
    },
    {
     "data": {
      "text/html": [
       "<div>\n",
       "<style scoped>\n",
       "    .dataframe tbody tr th:only-of-type {\n",
       "        vertical-align: middle;\n",
       "    }\n",
       "\n",
       "    .dataframe tbody tr th {\n",
       "        vertical-align: top;\n",
       "    }\n",
       "\n",
       "    .dataframe thead th {\n",
       "        text-align: right;\n",
       "    }\n",
       "</style>\n",
       "<table border=\"1\" class=\"dataframe\">\n",
       "  <thead>\n",
       "    <tr style=\"text-align: right;\">\n",
       "      <th></th>\n",
       "      <th>Age-ranges (classes)</th>\n",
       "      <th>No. of images</th>\n",
       "      <th>Class balance (%)</th>\n",
       "    </tr>\n",
       "  </thead>\n",
       "  <tbody>\n",
       "    <tr>\n",
       "      <th>0</th>\n",
       "      <td>1 - 4</td>\n",
       "      <td>2167</td>\n",
       "      <td>9.14</td>\n",
       "    </tr>\n",
       "    <tr>\n",
       "      <th>1</th>\n",
       "      <td>5 - 18</td>\n",
       "      <td>2328</td>\n",
       "      <td>9.82</td>\n",
       "    </tr>\n",
       "    <tr>\n",
       "      <th>2</th>\n",
       "      <td>19 - 24</td>\n",
       "      <td>2408</td>\n",
       "      <td>10.16</td>\n",
       "    </tr>\n",
       "    <tr>\n",
       "      <th>3</th>\n",
       "      <td>25 - 26</td>\n",
       "      <td>2931</td>\n",
       "      <td>12.36</td>\n",
       "    </tr>\n",
       "    <tr>\n",
       "      <th>4</th>\n",
       "      <td>27 - 30</td>\n",
       "      <td>2827</td>\n",
       "      <td>11.92</td>\n",
       "    </tr>\n",
       "    <tr>\n",
       "      <th>5</th>\n",
       "      <td>31 - 35</td>\n",
       "      <td>2446</td>\n",
       "      <td>10.32</td>\n",
       "    </tr>\n",
       "    <tr>\n",
       "      <th>6</th>\n",
       "      <td>36 - 42</td>\n",
       "      <td>2291</td>\n",
       "      <td>9.66</td>\n",
       "    </tr>\n",
       "    <tr>\n",
       "      <th>7</th>\n",
       "      <td>43 - 53</td>\n",
       "      <td>2313</td>\n",
       "      <td>9.76</td>\n",
       "    </tr>\n",
       "    <tr>\n",
       "      <th>8</th>\n",
       "      <td>54 - 65</td>\n",
       "      <td>2298</td>\n",
       "      <td>9.69</td>\n",
       "    </tr>\n",
       "    <tr>\n",
       "      <th>9</th>\n",
       "      <td>66 - 116</td>\n",
       "      <td>1699</td>\n",
       "      <td>7.17</td>\n",
       "    </tr>\n",
       "  </tbody>\n",
       "</table>\n",
       "</div>"
      ],
      "text/plain": [
       "  Age-ranges (classes) No. of images Class balance (%)\n",
       "0                1 - 4          2167              9.14\n",
       "1               5 - 18          2328              9.82\n",
       "2              19 - 24          2408             10.16\n",
       "3              25 - 26          2931             12.36\n",
       "4              27 - 30          2827             11.92\n",
       "5              31 - 35          2446             10.32\n",
       "6              36 - 42          2291              9.66\n",
       "7              43 - 53          2313              9.76\n",
       "8              54 - 65          2298              9.69\n",
       "9             66 - 116          1699              7.17"
      ]
     },
     "execution_count": 48,
     "metadata": {},
     "output_type": "execute_result"
    }
   ],
   "source": [
    "\n",
    "\n",
    "utkface_classes = split_classes(images_df['utkface_images'], 11)\n",
    "utkface_classes"
   ]
  },
  {
   "cell_type": "code",
   "execution_count": 49,
   "metadata": {
    "colab": {
     "base_uri": "https://localhost:8080/",
     "height": 545
    },
    "colab_type": "code",
    "executionInfo": {
     "elapsed": 1990,
     "status": "ok",
     "timestamp": 1593231036246,
     "user": {
      "displayName": "Prerak Agarwal",
      "photoUrl": "",
      "userId": "01206615471624868818"
     },
     "user_tz": -480
    },
    "id": "SA7wSEgP-8j0",
    "outputId": "7bf56eac-ea24-4ff6-cfe1-adc979b5060a"
   },
   "outputs": [
    {
     "data": {
      "image/png": "[encoded data removed]",
      "text/plain": [
       "<Figure size 864x576 with 1 Axes>"
      ]
     },
     "metadata": {
      "needs_background": "light"
     },
     "output_type": "display_data"
    }
   ],
   "source": [
    "\n",
    "\n",
    "plt.figure(figsize=(12, 8))\n",
    "\n",
    "ax = sns.barplot(x=utkface_classes['Age-ranges (classes)'], y=utkface_classes['No. of images'], color='royalblue')\n",
    "\n",
    "ax.tick_params(axis='both', labelsize=12)\n",
    "\n",
    "plt.xlabel(\"Age-ranges (classes)\", fontsize=14)\n",
    "plt.ylabel(\"No. of Images\", fontsize=14)\n",
    "\n",
    "plt.title(\"Barplot showing balance of images in different\\nAge-ranges (classes) for UTKFace dataset\", fontsize=18)\n",
    "\n",
    "# Exporting plot image in PNG format.\n",
    "plt.savefig('./Plot Images/barplot_utkface_images_in_classes.png', bbox_inches='tight');"
   ]
  },
  {
   "cell_type": "code",
   "execution_count": 50,
   "metadata": {
    "colab": {
     "base_uri": "https://localhost:8080/",
     "height": 526
    },
    "colab_type": "code",
    "executionInfo": {
     "elapsed": 694,
     "status": "ok",
     "timestamp": 1593231071513,
     "user": {
      "displayName": "Prerak Agarwal",
      "photoUrl": "",
      "userId": "01206615471624868818"
     },
     "user_tz": -480
    },
    "id": "IKQucAIOoAKC",
    "outputId": "aefd7076-160d-4a9a-d2c8-7429ecfe70db"
   },
   "outputs": [
    {
     "name": "stdout",
     "output_type": "stream",
     "text": [
      "Total no. of images in dataset\t= 33486\n",
      "No. of classes desired\t\t= 12\n",
      "So, target no. of images/class\t>= 33486/12 = ~2790\n",
      "\n",
      "Mean no. of images/class\t= ~3044\n",
      "Mean class balance\t\t= 9.09%\n",
      "Std. of class balance\t\t= 0.68%\n",
      "\n"
     ]
    },
    {
     "data": {
      "text/html": [
       "<div>\n",
       "<style scoped>\n",
       "    .dataframe tbody tr th:only-of-type {\n",
       "        vertical-align: middle;\n",
       "    }\n",
       "\n",
       "    .dataframe tbody tr th {\n",
       "        vertical-align: top;\n",
       "    }\n",
       "\n",
       "    .dataframe thead th {\n",
       "        text-align: right;\n",
       "    }\n",
       "</style>\n",
       "<table border=\"1\" class=\"dataframe\">\n",
       "  <thead>\n",
       "    <tr style=\"text-align: right;\">\n",
       "      <th></th>\n",
       "      <th>Age-ranges (classes)</th>\n",
       "      <th>No. of images</th>\n",
       "      <th>Class balance (%)</th>\n",
       "    </tr>\n",
       "  </thead>\n",
       "  <tbody>\n",
       "    <tr>\n",
       "      <th>0</th>\n",
       "      <td>1 - 2</td>\n",
       "      <td>3192</td>\n",
       "      <td>9.53</td>\n",
       "    </tr>\n",
       "    <tr>\n",
       "      <th>1</th>\n",
       "      <td>3 - 9</td>\n",
       "      <td>2816</td>\n",
       "      <td>8.41</td>\n",
       "    </tr>\n",
       "    <tr>\n",
       "      <th>2</th>\n",
       "      <td>10 - 20</td>\n",
       "      <td>3136</td>\n",
       "      <td>9.37</td>\n",
       "    </tr>\n",
       "    <tr>\n",
       "      <th>3</th>\n",
       "      <td>21 - 25</td>\n",
       "      <td>3474</td>\n",
       "      <td>10.37</td>\n",
       "    </tr>\n",
       "    <tr>\n",
       "      <th>4</th>\n",
       "      <td>26 - 27</td>\n",
       "      <td>3217</td>\n",
       "      <td>9.61</td>\n",
       "    </tr>\n",
       "    <tr>\n",
       "      <th>5</th>\n",
       "      <td>28 - 31</td>\n",
       "      <td>3063</td>\n",
       "      <td>9.15</td>\n",
       "    </tr>\n",
       "    <tr>\n",
       "      <th>6</th>\n",
       "      <td>32 - 36</td>\n",
       "      <td>3086</td>\n",
       "      <td>9.22</td>\n",
       "    </tr>\n",
       "    <tr>\n",
       "      <th>7</th>\n",
       "      <td>37 - 45</td>\n",
       "      <td>3207</td>\n",
       "      <td>9.58</td>\n",
       "    </tr>\n",
       "    <tr>\n",
       "      <th>8</th>\n",
       "      <td>46 - 54</td>\n",
       "      <td>2802</td>\n",
       "      <td>8.37</td>\n",
       "    </tr>\n",
       "    <tr>\n",
       "      <th>9</th>\n",
       "      <td>55 - 65</td>\n",
       "      <td>2796</td>\n",
       "      <td>8.35</td>\n",
       "    </tr>\n",
       "    <tr>\n",
       "      <th>10</th>\n",
       "      <td>66 - 116</td>\n",
       "      <td>2697</td>\n",
       "      <td>8.05</td>\n",
       "    </tr>\n",
       "  </tbody>\n",
       "</table>\n",
       "</div>"
      ],
      "text/plain": [
       "   Age-ranges (classes) No. of images Class balance (%)\n",
       "0                 1 - 2          3192              9.53\n",
       "1                 3 - 9          2816              8.41\n",
       "2               10 - 20          3136              9.37\n",
       "3               21 - 25          3474             10.37\n",
       "4               26 - 27          3217              9.61\n",
       "5               28 - 31          3063              9.15\n",
       "6               32 - 36          3086              9.22\n",
       "7               37 - 45          3207              9.58\n",
       "8               46 - 54          2802              8.37\n",
       "9               55 - 65          2796              8.35\n",
       "10             66 - 116          2697              8.05"
      ]
     },
     "execution_count": 50,
     "metadata": {},
     "output_type": "execute_result"
    }
   ],
   "source": [
    "\n",
    "\n",
    "combined_classes = split_classes(images_df['combined_images'], 12)\n",
    "combined_classes"
   ]
  },
  {
   "cell_type": "code",
   "execution_count": 51,
   "metadata": {
    "colab": {},
    "colab_type": "code",
    "id": "uaNc5ZLOPCSN"
   },
   "outputs": [],
   "source": [
    "# Exporting above created dataframe as a CSV file.\n",
    "\n",
    "combined_classes.to_csv(\"./Dataset/combined_faces_classes_summary.csv\", index=True, index_label='Class label')"
   ]
  },
  {
   "cell_type": "code",
   "execution_count": 52,
   "metadata": {
    "colab": {
     "base_uri": "https://localhost:8080/",
     "height": 545
    },
    "colab_type": "code",
    "executionInfo": {
     "elapsed": 3663,
     "status": "ok",
     "timestamp": 1593231082021,
     "user": {
      "displayName": "Prerak Agarwal",
      "photoUrl": "",
      "userId": "01206615471624868818"
     },
     "user_tz": -480
    },
    "id": "24PQBv4soEdI",
    "outputId": "c31af8e2-3514-4bcd-bed6-ed2348912c04"
   },
   "outputs": [
    {
     "data": {
      "image/png": "[encoded data removed]",
      "text/plain": [
       "<Figure size 864x576 with 1 Axes>"
      ]
     },
     "metadata": {
      "needs_background": "light"
     },
     "output_type": "display_data"
    }
   ],
   "source": [
    "# Plotting the balance of images in different age-ranges in a barplot.\n",
    "\n",
    "plt.figure(figsize=(12, 8))\n",
    "\n",
    "ax = sns.barplot(x=combined_classes['Age-ranges (classes)'], y=combined_classes['No. of images'], color='royalblue')\n",
    "\n",
    "ax.tick_params(axis='both', labelsize=12)\n",
    "\n",
    "plt.xlabel(\"Age-ranges (classes)\", fontsize=14)\n",
    "plt.ylabel(\"No. of Images\", fontsize=14)\n",
    "\n",
    "plt.title(\"Barplot showing balance of images in different\\nAge-ranges (classes) for Combined dataset (facial-age & UTKFace datasets)\", fontsize=18)\n",
    "\n",
    "# Exporting plot image in PNG format.\n",
    "plt.savefig('./Plot Images/barplot_combined_faces_images_in_classes.png', bbox_inches='tight');"
   ]
  },
  {
   "cell_type": "code",
   "execution_count": 59,
   "metadata": {
    "colab": {
     "base_uri": "https://localhost:8080/",
     "height": 697
    },
    "colab_type": "code",
    "executionInfo": {
     "elapsed": 26760,
     "status": "ok",
     "timestamp": 1592323517229,
     "user": {
      "displayName": "Prerak Agarwal",
      "photoUrl": "",
      "userId": "01206615471624868818"
     },
     "user_tz": -480
    },
    "id": "Yrj4bZfqn_-u",
    "outputId": "5ff5c71d-5478-4a9a-d468-4e44a506b073"
   },
   "outputs": [
    {
     "name": "stdout",
     "output_type": "stream",
     "text": [
      "Merging images from facial-age dataset into combined_faces.\n",
      "\n",
      "Images copied to combined_faces folder: 1000 of 33486\n",
      "Images copied to combined_faces folder: 2000 of 33486\n",
      "Images copied to combined_faces folder: 3000 of 33486\n",
      "Images copied to combined_faces folder: 4000 of 33486\n",
      "Images copied to combined_faces folder: 5000 of 33486\n",
      "Images copied to combined_faces folder: 6000 of 33486\n",
      "Images copied to combined_faces folder: 7000 of 33486\n",
      "Images copied to combined_faces folder: 8000 of 33486\n",
      "Images copied to combined_faces folder: 9000 of 33486\n",
      "\n",
      "Merging images from UTKFace dataset into combined_faces.\n",
      "\n",
      "Images copied to combined_faces folder: 10000 of 33486\n",
      "Images copied to combined_faces folder: 11000 of 33486\n",
      "Images copied to combined_faces folder: 12000 of 33486\n",
      "Images copied to combined_faces folder: 13000 of 33486\n",
      "Images copied to combined_faces folder: 14000 of 33486\n",
      "Images copied to combined_faces folder: 15000 of 33486\n",
      "Images copied to combined_faces folder: 16000 of 33486\n",
      "Images copied to combined_faces folder: 17000 of 33486\n",
      "Images copied to combined_faces folder: 18000 of 33486\n",
      "Images copied to combined_faces folder: 19000 of 33486\n",
      "Images copied to combined_faces folder: 20000 of 33486\n",
      "Images copied to combined_faces folder: 21000 of 33486\n",
      "Images copied to combined_faces folder: 22000 of 33486\n",
      "Images copied to combined_faces folder: 23000 of 33486\n",
      "Images copied to combined_faces folder: 24000 of 33486\n",
      "Images copied to combined_faces folder: 25000 of 33486\n",
      "Images copied to combined_faces folder: 26000 of 33486\n",
      "Images copied to combined_faces folder: 27000 of 33486\n",
      "Images copied to combined_faces folder: 28000 of 33486\n",
      "Images copied to combined_faces folder: 29000 of 33486\n",
      "Images copied to combined_faces folder: 30000 of 33486\n",
      "Images copied to combined_faces folder: 31000 of 33486\n",
      "Images copied to combined_faces folder: 32000 of 33486\n",
      "Images copied to combined_faces folder: 33000 of 33486\n",
      "\n",
      "Done merging images from both datasets into combined_faces.\n"
     ]
    }
   ],
   "source": [
    "os.mkdir(\"combined_faces\")\n",
    "\n",
    "progress_counter = 0\n",
    "age_file_counter = [1] * 117\n",
    "\n",
    "print(\"Merging images from facial-age dataset into combined_faces.\\n\")\n",
    "\n",
    "for age in facial_age_folders:\n",
    "    age_path = os.path.join(facial_age_path, age)\n",
    "\n",
    "    img_files = os.listdir(age_path)\n",
    "\n",
    "    for img in img_files:\n",
    "\n",
    "        img_src = os.path.join(age_path, img)\n",
    "\n",
    "        new_filename = str(int(age)) + \"_\" + str(age_file_counter[int(age)]) + \".jpg\"\n",
    "        age_file_counter[int(age)] += 1\n",
    "\n",
    "        img_dest = os.path.join(\"./Dataset/combined_faces\", new_filename)\n",
    "\n",
    "        # Converting the .PNG images to .JPG so as to maintain consistency with of filetype throughout the combined datasets.\n",
    "        png_image = cv2.imread(img_src)\n",
    "        cv2.imwrite(img_dest, png_image, [int(cv2.IMWRITE_JPEG_QUALITY), 100])\n",
    "\n",
    "        progress_counter += 1\n",
    "\n",
    "        if progress_counter % 1000 == 0:\n",
    "            print(f\"Images copied to combined_faces folder: {progress_counter} of 33486\")\n",
    "\n",
    "print(\"\\nMerging images from UTKFace dataset into combined_faces.\\n\")\n",
    "\n",
    "for img in utkface_image_names:\n",
    "\n",
    "    file_type = img.split(\".\")[-1]\n",
    "    age = img.split(\"_\")[0]\n",
    "\n",
    "    img_src = os.path.join(utkface_path, img)\n",
    "\n",
    "    new_filename = age + \"_\" + str(age_file_counter[int(age)]) + \".\" + file_type\n",
    "    age_file_counter[int(age)] += 1\n",
    "\n",
    "    img_dest = os.path.join(\"./Dataset/combined_faces\", new_filename)\n",
    "\n",
    "    shutil.copy(img_src, img_dest);\n",
    "    progress_counter += 1\n",
    "\n",
    "    if progress_counter % 1000 == 0:\n",
    "        print(f\"Images copied to combined_faces folder: {progress_counter} of 33486\")\n",
    "\n",
    "print(\"\\nDone merging images from both datasets into combined_faces.\")"
   ]
  }
 ],
 "metadata": {
  "colab": {
   "authorship_tag": "ABX9TyOVO6LwFLt1IBzdwJkTeghx",
   "collapsed_sections": [],
   "name": "1_EDA_dataset_prep.ipynb",
   "provenance": [],
   "toc_visible": true
  },
  "kernelspec": {
   "display_name": "Python 3 (ipykernel)",
   "language": "python",
   "name": "python3"
  },
  "language_info": {
   "codemirror_mode": {
    "name": "ipython",
    "version": 3
   },
   "file_extension": ".py",
   "mimetype": "text/x-python",
   "name": "python",
   "nbconvert_exporter": "python",
   "pygments_lexer": "ipython3",
   "version": "3.7.11"
  }
 },
 "nbformat": 4,
 "nbformat_minor": 1
}
