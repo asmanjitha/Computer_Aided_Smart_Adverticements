{
 "cells": [
  {
   "cell_type": "code",
   "execution_count": 1,
   "metadata": {
    "colab": {},
    "colab_type": "code",
    "id": "Uj0ft8tDNFSJ"
   },
   "outputs": [],
   "source": [
    "import pandas as pd\n",
    "import numpy as np\n",
    "import matplotlib.pyplot as plt\n",
    "\n",
    "from sklearn.preprocessing import StandardScaler\n",
    "from sklearn.model_selection import train_test_split, cross_val_score, GridSearchCV\n",
    "from sklearn.ensemble import RandomForestClassifier\n",
    "from sklearn.svm import SVC\n",
    "from sklearn.metrics import confusion_matrix\n",
    "\n",
    "# import os\n",
    "# from zipfile import ZipFile\n",
    "import time\n",
    "from datetime import datetime\n",
    "import itertools\n",
    "\n",
    "import pickle"
   ]
  },
  {
   "cell_type": "code",
   "execution_count": 2,
   "metadata": {
    "colab": {
     "base_uri": "https://localhost:8080/",
     "height": 390
    },
    "colab_type": "code",
    "executionInfo": {
     "elapsed": 1104,
     "status": "ok",
     "timestamp": 1592678176530,
     "user": {
      "displayName": "Prerak Agarwal",
      "photoUrl": "",
      "userId": "01206615471624868818"
     },
     "user_tz": -480
    },
    "id": "Z5Xu46GYNTiF",
    "outputId": "4247e70f-edb1-479b-f3d7-cc5545a90226"
   },
   "outputs": [
    {
     "data": {
      "text/html": [
       "<div>\n",
       "<style scoped>\n",
       "    .dataframe tbody tr th:only-of-type {\n",
       "        vertical-align: middle;\n",
       "    }\n",
       "\n",
       "    .dataframe tbody tr th {\n",
       "        vertical-align: top;\n",
       "    }\n",
       "\n",
       "    .dataframe thead th {\n",
       "        text-align: right;\n",
       "    }\n",
       "</style>\n",
       "<table border=\"1\" class=\"dataframe\">\n",
       "  <thead>\n",
       "    <tr style=\"text-align: right;\">\n",
       "      <th></th>\n",
       "      <th>Class label</th>\n",
       "      <th>Age-ranges (classes)</th>\n",
       "      <th>No. of images</th>\n",
       "      <th>Class balance (%)</th>\n",
       "    </tr>\n",
       "  </thead>\n",
       "  <tbody>\n",
       "    <tr>\n",
       "      <th>0</th>\n",
       "      <td>0</td>\n",
       "      <td>1 - 2</td>\n",
       "      <td>3192</td>\n",
       "      <td>9.53</td>\n",
       "    </tr>\n",
       "    <tr>\n",
       "      <th>1</th>\n",
       "      <td>1</td>\n",
       "      <td>3 - 9</td>\n",
       "      <td>2816</td>\n",
       "      <td>8.41</td>\n",
       "    </tr>\n",
       "    <tr>\n",
       "      <th>2</th>\n",
       "      <td>2</td>\n",
       "      <td>10 - 20</td>\n",
       "      <td>3136</td>\n",
       "      <td>9.37</td>\n",
       "    </tr>\n",
       "    <tr>\n",
       "      <th>3</th>\n",
       "      <td>3</td>\n",
       "      <td>21 - 25</td>\n",
       "      <td>3474</td>\n",
       "      <td>10.37</td>\n",
       "    </tr>\n",
       "    <tr>\n",
       "      <th>4</th>\n",
       "      <td>4</td>\n",
       "      <td>26 - 27</td>\n",
       "      <td>3217</td>\n",
       "      <td>9.61</td>\n",
       "    </tr>\n",
       "    <tr>\n",
       "      <th>5</th>\n",
       "      <td>5</td>\n",
       "      <td>28 - 31</td>\n",
       "      <td>3063</td>\n",
       "      <td>9.15</td>\n",
       "    </tr>\n",
       "    <tr>\n",
       "      <th>6</th>\n",
       "      <td>6</td>\n",
       "      <td>32 - 36</td>\n",
       "      <td>3086</td>\n",
       "      <td>9.22</td>\n",
       "    </tr>\n",
       "    <tr>\n",
       "      <th>7</th>\n",
       "      <td>7</td>\n",
       "      <td>37 - 45</td>\n",
       "      <td>3207</td>\n",
       "      <td>9.58</td>\n",
       "    </tr>\n",
       "    <tr>\n",
       "      <th>8</th>\n",
       "      <td>8</td>\n",
       "      <td>46 - 54</td>\n",
       "      <td>2802</td>\n",
       "      <td>8.37</td>\n",
       "    </tr>\n",
       "    <tr>\n",
       "      <th>9</th>\n",
       "      <td>9</td>\n",
       "      <td>55 - 65</td>\n",
       "      <td>2796</td>\n",
       "      <td>8.35</td>\n",
       "    </tr>\n",
       "    <tr>\n",
       "      <th>10</th>\n",
       "      <td>10</td>\n",
       "      <td>66 - 116</td>\n",
       "      <td>2697</td>\n",
       "      <td>8.05</td>\n",
       "    </tr>\n",
       "  </tbody>\n",
       "</table>\n",
       "</div>"
      ],
      "text/plain": [
       "    Class label Age-ranges (classes)  No. of images  Class balance (%)\n",
       "0             0                1 - 2           3192               9.53\n",
       "1             1                3 - 9           2816               8.41\n",
       "2             2              10 - 20           3136               9.37\n",
       "3             3              21 - 25           3474              10.37\n",
       "4             4              26 - 27           3217               9.61\n",
       "5             5              28 - 31           3063               9.15\n",
       "6             6              32 - 36           3086               9.22\n",
       "7             7              37 - 45           3207               9.58\n",
       "8             8              46 - 54           2802               8.37\n",
       "9             9              55 - 65           2796               8.35\n",
       "10           10             66 - 116           2697               8.05"
      ]
     },
     "execution_count": 2,
     "metadata": {},
     "output_type": "execute_result"
    }
   ],
   "source": [
    "combined_classes = pd.read_csv(\"./Dataset/combined_faces_classes_summary.csv\")\n",
    "combined_classes"
   ]
  },
  {
   "cell_type": "code",
   "execution_count": 3,
   "metadata": {
    "colab": {},
    "colab_type": "code",
    "id": "PasUG1OoOfrR"
   },
   "outputs": [],
   "source": [
    "# Defining a function to return the class labels corresponding to the age-ranges shown above.\n",
    "\n",
    "def class_labels(age):\n",
    "    if 1 <= age <= 2:\n",
    "        return 1\n",
    "    elif 3 <= age <= 9:\n",
    "        return 2\n",
    "    elif 10 <= age <= 20:\n",
    "        return 3\n",
    "    elif 21 <= age <= 25:\n",
    "        return 4\n",
    "    elif 26 <= age <= 27:\n",
    "        return 5\n",
    "    elif 28 <= age <= 31:\n",
    "        return 6\n",
    "    elif 32 <= age <= 36:\n",
    "        return 7\n",
    "    elif 37 <= age <= 45:\n",
    "        return 8\n",
    "    elif 46 <= age <= 54:\n",
    "        return 9\n",
    "    elif 55 <= age <= 65:\n",
    "        return 10\n",
    "    else:\n",
    "        return 11"
   ]
  },
  {
   "cell_type": "code",
   "execution_count": 4,
   "metadata": {
    "colab": {
     "base_uri": "https://localhost:8080/",
     "height": 419
    },
    "colab_type": "code",
    "executionInfo": {
     "elapsed": 1160,
     "status": "ok",
     "timestamp": 1592678182823,
     "user": {
      "displayName": "Prerak Agarwal",
      "photoUrl": "",
      "userId": "01206615471624868818"
     },
     "user_tz": -480
    },
    "id": "SgYt26In9EfC",
    "outputId": "9af27d7e-1725-48d0-fedb-0515c8c1833b"
   },
   "outputs": [
    {
     "data": {
      "text/html": [
       "<div>\n",
       "<style scoped>\n",
       "    .dataframe tbody tr th:only-of-type {\n",
       "        vertical-align: middle;\n",
       "    }\n",
       "\n",
       "    .dataframe tbody tr th {\n",
       "        vertical-align: top;\n",
       "    }\n",
       "\n",
       "    .dataframe thead th {\n",
       "        text-align: right;\n",
       "    }\n",
       "</style>\n",
       "<table border=\"1\" class=\"dataframe\">\n",
       "  <thead>\n",
       "    <tr style=\"text-align: right;\">\n",
       "      <th></th>\n",
       "      <th>canny_edge_features</th>\n",
       "    </tr>\n",
       "  </thead>\n",
       "  <tbody>\n",
       "    <tr>\n",
       "      <th>0</th>\n",
       "      <td>sec1_mean</td>\n",
       "    </tr>\n",
       "    <tr>\n",
       "      <th>1</th>\n",
       "      <td>sec1_std</td>\n",
       "    </tr>\n",
       "    <tr>\n",
       "      <th>2</th>\n",
       "      <td>sec2_mean</td>\n",
       "    </tr>\n",
       "    <tr>\n",
       "      <th>3</th>\n",
       "      <td>sec2_std</td>\n",
       "    </tr>\n",
       "    <tr>\n",
       "      <th>4</th>\n",
       "      <td>sec3_mean</td>\n",
       "    </tr>\n",
       "    <tr>\n",
       "      <th>...</th>\n",
       "      <td>...</td>\n",
       "    </tr>\n",
       "    <tr>\n",
       "      <th>796</th>\n",
       "      <td>sec399_mean</td>\n",
       "    </tr>\n",
       "    <tr>\n",
       "      <th>797</th>\n",
       "      <td>sec399_std</td>\n",
       "    </tr>\n",
       "    <tr>\n",
       "      <th>798</th>\n",
       "      <td>sec400_mean</td>\n",
       "    </tr>\n",
       "    <tr>\n",
       "      <th>799</th>\n",
       "      <td>sec400_std</td>\n",
       "    </tr>\n",
       "    <tr>\n",
       "      <th>800</th>\n",
       "      <td>age</td>\n",
       "    </tr>\n",
       "  </tbody>\n",
       "</table>\n",
       "<p>801 rows × 1 columns</p>\n",
       "</div>"
      ],
      "text/plain": [
       "    canny_edge_features\n",
       "0             sec1_mean\n",
       "1              sec1_std\n",
       "2             sec2_mean\n",
       "3              sec2_std\n",
       "4             sec3_mean\n",
       "..                  ...\n",
       "796         sec399_mean\n",
       "797          sec399_std\n",
       "798         sec400_mean\n",
       "799          sec400_std\n",
       "800                 age\n",
       "\n",
       "[801 rows x 1 columns]"
      ]
     },
     "execution_count": 4,
     "metadata": {},
     "output_type": "execute_result"
    }
   ],
   "source": [
    "# Importing the feature names.\n",
    "\n",
    "feature_names = pd.read_csv(\"./Dataset/canny_features_names.csv\")\n",
    "feature_names"
   ]
  },
  {
   "cell_type": "code",
   "execution_count": 5,
   "metadata": {
    "colab": {},
    "colab_type": "code",
    "id": "RPQdqIbR9E0r"
   },
   "outputs": [],
   "source": [
    "# Importing the numpy arrays of train and test datasets.\n",
    "\n",
    "train = np.load(\"./Dataset/canny_features_age_train.npy\")\n",
    "test = np.load(\"./Dataset/canny_features_age_test.npy\")"
   ]
  },
  {
   "cell_type": "code",
   "execution_count": 6,
   "metadata": {
    "colab": {},
    "colab_type": "code",
    "id": "jWO2lMHV9Er3"
   },
   "outputs": [],
   "source": [
    "# Converting the numpy arrays to pandas dataframe.\n",
    "\n",
    "train_df = pd.DataFrame(train, columns=feature_names[\"canny_edge_features\"])\n",
    "test_df = pd.DataFrame(test, columns=feature_names[\"canny_edge_features\"])"
   ]
  },
  {
   "cell_type": "code",
   "execution_count": 7,
   "metadata": {
    "colab": {
     "base_uri": "https://localhost:8080/",
     "height": 253
    },
    "colab_type": "code",
    "executionInfo": {
     "elapsed": 863,
     "status": "ok",
     "timestamp": 1592678190777,
     "user": {
      "displayName": "Prerak Agarwal",
      "photoUrl": "",
      "userId": "01206615471624868818"
     },
     "user_tz": -480
    },
    "id": "1sia-yuw9EqO",
    "outputId": "7189157b-4e9f-4e16-bd0c-5afe06460c16"
   },
   "outputs": [
    {
     "data": {
      "text/html": [
       "<div>\n",
       "<style scoped>\n",
       "    .dataframe tbody tr th:only-of-type {\n",
       "        vertical-align: middle;\n",
       "    }\n",
       "\n",
       "    .dataframe tbody tr th {\n",
       "        vertical-align: top;\n",
       "    }\n",
       "\n",
       "    .dataframe thead th {\n",
       "        text-align: right;\n",
       "    }\n",
       "</style>\n",
       "<table border=\"1\" class=\"dataframe\">\n",
       "  <thead>\n",
       "    <tr style=\"text-align: right;\">\n",
       "      <th>canny_edge_features</th>\n",
       "      <th>sec1_mean</th>\n",
       "      <th>sec1_std</th>\n",
       "      <th>sec2_mean</th>\n",
       "      <th>sec2_std</th>\n",
       "      <th>sec3_mean</th>\n",
       "      <th>sec3_std</th>\n",
       "      <th>sec4_mean</th>\n",
       "      <th>sec4_std</th>\n",
       "      <th>sec5_mean</th>\n",
       "      <th>sec5_std</th>\n",
       "      <th>...</th>\n",
       "      <th>sec396_std</th>\n",
       "      <th>sec397_mean</th>\n",
       "      <th>sec397_std</th>\n",
       "      <th>sec398_mean</th>\n",
       "      <th>sec398_std</th>\n",
       "      <th>sec399_mean</th>\n",
       "      <th>sec399_std</th>\n",
       "      <th>sec400_mean</th>\n",
       "      <th>sec400_std</th>\n",
       "      <th>age</th>\n",
       "    </tr>\n",
       "  </thead>\n",
       "  <tbody>\n",
       "    <tr>\n",
       "      <th>0</th>\n",
       "      <td>0.00</td>\n",
       "      <td>0.000000</td>\n",
       "      <td>0.00</td>\n",
       "      <td>0.000000</td>\n",
       "      <td>0.00</td>\n",
       "      <td>0.000000</td>\n",
       "      <td>0.00</td>\n",
       "      <td>0.000000</td>\n",
       "      <td>0.00</td>\n",
       "      <td>0.000000</td>\n",
       "      <td>...</td>\n",
       "      <td>0.357071</td>\n",
       "      <td>0.21</td>\n",
       "      <td>0.407308</td>\n",
       "      <td>0.27</td>\n",
       "      <td>0.443959</td>\n",
       "      <td>0.22</td>\n",
       "      <td>0.414246</td>\n",
       "      <td>0.24</td>\n",
       "      <td>0.427083</td>\n",
       "      <td>20.0</td>\n",
       "    </tr>\n",
       "    <tr>\n",
       "      <th>1</th>\n",
       "      <td>0.00</td>\n",
       "      <td>0.000000</td>\n",
       "      <td>0.00</td>\n",
       "      <td>0.000000</td>\n",
       "      <td>0.00</td>\n",
       "      <td>0.000000</td>\n",
       "      <td>0.12</td>\n",
       "      <td>0.324962</td>\n",
       "      <td>0.00</td>\n",
       "      <td>0.000000</td>\n",
       "      <td>...</td>\n",
       "      <td>0.000000</td>\n",
       "      <td>0.00</td>\n",
       "      <td>0.000000</td>\n",
       "      <td>0.00</td>\n",
       "      <td>0.000000</td>\n",
       "      <td>0.00</td>\n",
       "      <td>0.000000</td>\n",
       "      <td>0.00</td>\n",
       "      <td>0.000000</td>\n",
       "      <td>9.0</td>\n",
       "    </tr>\n",
       "    <tr>\n",
       "      <th>2</th>\n",
       "      <td>0.02</td>\n",
       "      <td>0.140000</td>\n",
       "      <td>0.15</td>\n",
       "      <td>0.357071</td>\n",
       "      <td>0.19</td>\n",
       "      <td>0.392301</td>\n",
       "      <td>0.17</td>\n",
       "      <td>0.375633</td>\n",
       "      <td>0.16</td>\n",
       "      <td>0.366606</td>\n",
       "      <td>...</td>\n",
       "      <td>0.324962</td>\n",
       "      <td>0.12</td>\n",
       "      <td>0.324962</td>\n",
       "      <td>0.22</td>\n",
       "      <td>0.414246</td>\n",
       "      <td>0.20</td>\n",
       "      <td>0.400000</td>\n",
       "      <td>0.16</td>\n",
       "      <td>0.366606</td>\n",
       "      <td>8.0</td>\n",
       "    </tr>\n",
       "    <tr>\n",
       "      <th>3</th>\n",
       "      <td>0.22</td>\n",
       "      <td>0.414246</td>\n",
       "      <td>0.06</td>\n",
       "      <td>0.237487</td>\n",
       "      <td>0.25</td>\n",
       "      <td>0.433013</td>\n",
       "      <td>0.17</td>\n",
       "      <td>0.375633</td>\n",
       "      <td>0.00</td>\n",
       "      <td>0.000000</td>\n",
       "      <td>...</td>\n",
       "      <td>0.000000</td>\n",
       "      <td>0.00</td>\n",
       "      <td>0.000000</td>\n",
       "      <td>0.00</td>\n",
       "      <td>0.000000</td>\n",
       "      <td>0.00</td>\n",
       "      <td>0.000000</td>\n",
       "      <td>0.09</td>\n",
       "      <td>0.286182</td>\n",
       "      <td>40.0</td>\n",
       "    </tr>\n",
       "    <tr>\n",
       "      <th>4</th>\n",
       "      <td>0.09</td>\n",
       "      <td>0.286182</td>\n",
       "      <td>0.12</td>\n",
       "      <td>0.324962</td>\n",
       "      <td>0.00</td>\n",
       "      <td>0.000000</td>\n",
       "      <td>0.00</td>\n",
       "      <td>0.000000</td>\n",
       "      <td>0.00</td>\n",
       "      <td>0.000000</td>\n",
       "      <td>...</td>\n",
       "      <td>0.336303</td>\n",
       "      <td>0.12</td>\n",
       "      <td>0.324962</td>\n",
       "      <td>0.00</td>\n",
       "      <td>0.000000</td>\n",
       "      <td>0.00</td>\n",
       "      <td>0.000000</td>\n",
       "      <td>0.00</td>\n",
       "      <td>0.000000</td>\n",
       "      <td>21.0</td>\n",
       "    </tr>\n",
       "  </tbody>\n",
       "</table>\n",
       "<p>5 rows × 801 columns</p>\n",
       "</div>"
      ],
      "text/plain": [
       "canny_edge_features  sec1_mean  sec1_std  sec2_mean  sec2_std  sec3_mean  \\\n",
       "0                         0.00  0.000000       0.00  0.000000       0.00   \n",
       "1                         0.00  0.000000       0.00  0.000000       0.00   \n",
       "2                         0.02  0.140000       0.15  0.357071       0.19   \n",
       "3                         0.22  0.414246       0.06  0.237487       0.25   \n",
       "4                         0.09  0.286182       0.12  0.324962       0.00   \n",
       "\n",
       "canny_edge_features  sec3_std  sec4_mean  sec4_std  sec5_mean  sec5_std  ...  \\\n",
       "0                    0.000000       0.00  0.000000       0.00  0.000000  ...   \n",
       "1                    0.000000       0.12  0.324962       0.00  0.000000  ...   \n",
       "2                    0.392301       0.17  0.375633       0.16  0.366606  ...   \n",
       "3                    0.433013       0.17  0.375633       0.00  0.000000  ...   \n",
       "4                    0.000000       0.00  0.000000       0.00  0.000000  ...   \n",
       "\n",
       "canny_edge_features  sec396_std  sec397_mean  sec397_std  sec398_mean  \\\n",
       "0                      0.357071         0.21    0.407308         0.27   \n",
       "1                      0.000000         0.00    0.000000         0.00   \n",
       "2                      0.324962         0.12    0.324962         0.22   \n",
       "3                      0.000000         0.00    0.000000         0.00   \n",
       "4                      0.336303         0.12    0.324962         0.00   \n",
       "\n",
       "canny_edge_features  sec398_std  sec399_mean  sec399_std  sec400_mean  \\\n",
       "0                      0.443959         0.22    0.414246         0.24   \n",
       "1                      0.000000         0.00    0.000000         0.00   \n",
       "2                      0.414246         0.20    0.400000         0.16   \n",
       "3                      0.000000         0.00    0.000000         0.09   \n",
       "4                      0.000000         0.00    0.000000         0.00   \n",
       "\n",
       "canny_edge_features  sec400_std   age  \n",
       "0                      0.427083  20.0  \n",
       "1                      0.000000   9.0  \n",
       "2                      0.366606   8.0  \n",
       "3                      0.286182  40.0  \n",
       "4                      0.000000  21.0  \n",
       "\n",
       "[5 rows x 801 columns]"
      ]
     },
     "execution_count": 7,
     "metadata": {},
     "output_type": "execute_result"
    }
   ],
   "source": [
    "train_df.head()"
   ]
  },
  {
   "cell_type": "code",
   "execution_count": 8,
   "metadata": {
    "colab": {
     "base_uri": "https://localhost:8080/",
     "height": 253
    },
    "colab_type": "code",
    "executionInfo": {
     "elapsed": 1411,
     "status": "ok",
     "timestamp": 1592678192500,
     "user": {
      "displayName": "Prerak Agarwal",
      "photoUrl": "",
      "userId": "01206615471624868818"
     },
     "user_tz": -480
    },
    "id": "UBOUyN0pBw1n",
    "outputId": "358ebd25-015d-4bfb-ad85-afb3332bb26b"
   },
   "outputs": [
    {
     "data": {
      "text/html": [
       "<div>\n",
       "<style scoped>\n",
       "    .dataframe tbody tr th:only-of-type {\n",
       "        vertical-align: middle;\n",
       "    }\n",
       "\n",
       "    .dataframe tbody tr th {\n",
       "        vertical-align: top;\n",
       "    }\n",
       "\n",
       "    .dataframe thead th {\n",
       "        text-align: right;\n",
       "    }\n",
       "</style>\n",
       "<table border=\"1\" class=\"dataframe\">\n",
       "  <thead>\n",
       "    <tr style=\"text-align: right;\">\n",
       "      <th>canny_edge_features</th>\n",
       "      <th>sec1_mean</th>\n",
       "      <th>sec1_std</th>\n",
       "      <th>sec2_mean</th>\n",
       "      <th>sec2_std</th>\n",
       "      <th>sec3_mean</th>\n",
       "      <th>sec3_std</th>\n",
       "      <th>sec4_mean</th>\n",
       "      <th>sec4_std</th>\n",
       "      <th>sec5_mean</th>\n",
       "      <th>sec5_std</th>\n",
       "      <th>...</th>\n",
       "      <th>sec396_std</th>\n",
       "      <th>sec397_mean</th>\n",
       "      <th>sec397_std</th>\n",
       "      <th>sec398_mean</th>\n",
       "      <th>sec398_std</th>\n",
       "      <th>sec399_mean</th>\n",
       "      <th>sec399_std</th>\n",
       "      <th>sec400_mean</th>\n",
       "      <th>sec400_std</th>\n",
       "      <th>age</th>\n",
       "    </tr>\n",
       "  </thead>\n",
       "  <tbody>\n",
       "    <tr>\n",
       "      <th>0</th>\n",
       "      <td>0.16</td>\n",
       "      <td>0.366606</td>\n",
       "      <td>0.24</td>\n",
       "      <td>0.427083</td>\n",
       "      <td>0.04</td>\n",
       "      <td>0.195959</td>\n",
       "      <td>0.00</td>\n",
       "      <td>0.000000</td>\n",
       "      <td>0.00</td>\n",
       "      <td>0.000000</td>\n",
       "      <td>...</td>\n",
       "      <td>0.300000</td>\n",
       "      <td>0.04</td>\n",
       "      <td>0.195959</td>\n",
       "      <td>0.10</td>\n",
       "      <td>0.300000</td>\n",
       "      <td>0.07</td>\n",
       "      <td>0.255147</td>\n",
       "      <td>0.00</td>\n",
       "      <td>0.000000</td>\n",
       "      <td>9.0</td>\n",
       "    </tr>\n",
       "    <tr>\n",
       "      <th>1</th>\n",
       "      <td>0.16</td>\n",
       "      <td>0.366606</td>\n",
       "      <td>0.18</td>\n",
       "      <td>0.384187</td>\n",
       "      <td>0.17</td>\n",
       "      <td>0.375633</td>\n",
       "      <td>0.24</td>\n",
       "      <td>0.427083</td>\n",
       "      <td>0.27</td>\n",
       "      <td>0.443959</td>\n",
       "      <td>...</td>\n",
       "      <td>0.324962</td>\n",
       "      <td>0.13</td>\n",
       "      <td>0.336303</td>\n",
       "      <td>0.00</td>\n",
       "      <td>0.000000</td>\n",
       "      <td>0.00</td>\n",
       "      <td>0.000000</td>\n",
       "      <td>0.00</td>\n",
       "      <td>0.000000</td>\n",
       "      <td>42.0</td>\n",
       "    </tr>\n",
       "    <tr>\n",
       "      <th>2</th>\n",
       "      <td>0.09</td>\n",
       "      <td>0.286182</td>\n",
       "      <td>0.11</td>\n",
       "      <td>0.312890</td>\n",
       "      <td>0.00</td>\n",
       "      <td>0.000000</td>\n",
       "      <td>0.00</td>\n",
       "      <td>0.000000</td>\n",
       "      <td>0.00</td>\n",
       "      <td>0.000000</td>\n",
       "      <td>...</td>\n",
       "      <td>0.000000</td>\n",
       "      <td>0.15</td>\n",
       "      <td>0.357071</td>\n",
       "      <td>0.13</td>\n",
       "      <td>0.336303</td>\n",
       "      <td>0.00</td>\n",
       "      <td>0.000000</td>\n",
       "      <td>0.00</td>\n",
       "      <td>0.000000</td>\n",
       "      <td>40.0</td>\n",
       "    </tr>\n",
       "    <tr>\n",
       "      <th>3</th>\n",
       "      <td>0.00</td>\n",
       "      <td>0.000000</td>\n",
       "      <td>0.08</td>\n",
       "      <td>0.271293</td>\n",
       "      <td>0.21</td>\n",
       "      <td>0.407308</td>\n",
       "      <td>0.09</td>\n",
       "      <td>0.286182</td>\n",
       "      <td>0.00</td>\n",
       "      <td>0.000000</td>\n",
       "      <td>...</td>\n",
       "      <td>0.000000</td>\n",
       "      <td>0.00</td>\n",
       "      <td>0.000000</td>\n",
       "      <td>0.00</td>\n",
       "      <td>0.000000</td>\n",
       "      <td>0.00</td>\n",
       "      <td>0.000000</td>\n",
       "      <td>0.00</td>\n",
       "      <td>0.000000</td>\n",
       "      <td>34.0</td>\n",
       "    </tr>\n",
       "    <tr>\n",
       "      <th>4</th>\n",
       "      <td>0.09</td>\n",
       "      <td>0.286182</td>\n",
       "      <td>0.19</td>\n",
       "      <td>0.392301</td>\n",
       "      <td>0.15</td>\n",
       "      <td>0.357071</td>\n",
       "      <td>0.00</td>\n",
       "      <td>0.000000</td>\n",
       "      <td>0.00</td>\n",
       "      <td>0.000000</td>\n",
       "      <td>...</td>\n",
       "      <td>0.000000</td>\n",
       "      <td>0.00</td>\n",
       "      <td>0.000000</td>\n",
       "      <td>0.10</td>\n",
       "      <td>0.300000</td>\n",
       "      <td>0.11</td>\n",
       "      <td>0.312890</td>\n",
       "      <td>0.22</td>\n",
       "      <td>0.414246</td>\n",
       "      <td>6.0</td>\n",
       "    </tr>\n",
       "  </tbody>\n",
       "</table>\n",
       "<p>5 rows × 801 columns</p>\n",
       "</div>"
      ],
      "text/plain": [
       "canny_edge_features  sec1_mean  sec1_std  sec2_mean  sec2_std  sec3_mean  \\\n",
       "0                         0.16  0.366606       0.24  0.427083       0.04   \n",
       "1                         0.16  0.366606       0.18  0.384187       0.17   \n",
       "2                         0.09  0.286182       0.11  0.312890       0.00   \n",
       "3                         0.00  0.000000       0.08  0.271293       0.21   \n",
       "4                         0.09  0.286182       0.19  0.392301       0.15   \n",
       "\n",
       "canny_edge_features  sec3_std  sec4_mean  sec4_std  sec5_mean  sec5_std  ...  \\\n",
       "0                    0.195959       0.00  0.000000       0.00  0.000000  ...   \n",
       "1                    0.375633       0.24  0.427083       0.27  0.443959  ...   \n",
       "2                    0.000000       0.00  0.000000       0.00  0.000000  ...   \n",
       "3                    0.407308       0.09  0.286182       0.00  0.000000  ...   \n",
       "4                    0.357071       0.00  0.000000       0.00  0.000000  ...   \n",
       "\n",
       "canny_edge_features  sec396_std  sec397_mean  sec397_std  sec398_mean  \\\n",
       "0                      0.300000         0.04    0.195959         0.10   \n",
       "1                      0.324962         0.13    0.336303         0.00   \n",
       "2                      0.000000         0.15    0.357071         0.13   \n",
       "3                      0.000000         0.00    0.000000         0.00   \n",
       "4                      0.000000         0.00    0.000000         0.10   \n",
       "\n",
       "canny_edge_features  sec398_std  sec399_mean  sec399_std  sec400_mean  \\\n",
       "0                      0.300000         0.07    0.255147         0.00   \n",
       "1                      0.000000         0.00    0.000000         0.00   \n",
       "2                      0.336303         0.00    0.000000         0.00   \n",
       "3                      0.000000         0.00    0.000000         0.00   \n",
       "4                      0.300000         0.11    0.312890         0.22   \n",
       "\n",
       "canny_edge_features  sec400_std   age  \n",
       "0                      0.000000   9.0  \n",
       "1                      0.000000  42.0  \n",
       "2                      0.000000  40.0  \n",
       "3                      0.000000  34.0  \n",
       "4                      0.414246   6.0  \n",
       "\n",
       "[5 rows x 801 columns]"
      ]
     },
     "execution_count": 8,
     "metadata": {},
     "output_type": "execute_result"
    }
   ],
   "source": [
    "test_df.head()"
   ]
  },
  {
   "cell_type": "code",
   "execution_count": 9,
   "metadata": {
    "colab": {
     "base_uri": "https://localhost:8080/",
     "height": 34
    },
    "colab_type": "code",
    "executionInfo": {
     "elapsed": 767,
     "status": "ok",
     "timestamp": 1592678195649,
     "user": {
      "displayName": "Prerak Agarwal",
      "photoUrl": "",
      "userId": "01206615471624868818"
     },
     "user_tz": -480
    },
    "id": "41rxgOi5AMuS",
    "outputId": "8b9856c4-2fcd-4c96-aa1b-9e2e9f620def"
   },
   "outputs": [
    {
     "data": {
      "text/plain": [
       "(23440, 801)"
      ]
     },
     "execution_count": 9,
     "metadata": {},
     "output_type": "execute_result"
    }
   ],
   "source": [
    "train_df.shape"
   ]
  },
  {
   "cell_type": "code",
   "execution_count": 10,
   "metadata": {
    "colab": {
     "base_uri": "https://localhost:8080/",
     "height": 34
    },
    "colab_type": "code",
    "executionInfo": {
     "elapsed": 815,
     "status": "ok",
     "timestamp": 1592678197264,
     "user": {
      "displayName": "Prerak Agarwal",
      "photoUrl": "",
      "userId": "01206615471624868818"
     },
     "user_tz": -480
    },
    "id": "uOGIm7S6BzaV",
    "outputId": "fadebb20-13ce-41a5-d323-e5f3e286c56d"
   },
   "outputs": [
    {
     "data": {
      "text/plain": [
       "(10046, 801)"
      ]
     },
     "execution_count": 10,
     "metadata": {},
     "output_type": "execute_result"
    }
   ],
   "source": [
    "test_df.shape"
   ]
  },
  {
   "cell_type": "code",
   "execution_count": 11,
   "metadata": {
    "colab": {
     "base_uri": "https://localhost:8080/",
     "height": 34
    },
    "colab_type": "code",
    "executionInfo": {
     "elapsed": 1010,
     "status": "ok",
     "timestamp": 1592678198477,
     "user": {
      "displayName": "Prerak Agarwal",
      "photoUrl": "",
      "userId": "01206615471624868818"
     },
     "user_tz": -480
    },
    "id": "5H6YxD_a9Elz",
    "outputId": "3e34eae3-ca79-4263-b6b0-3104ac8ac3f8"
   },
   "outputs": [
    {
     "data": {
      "text/plain": [
       "array([dtype('float64')], dtype=object)"
      ]
     },
     "execution_count": 11,
     "metadata": {},
     "output_type": "execute_result"
    }
   ],
   "source": [
    "train_df.dtypes.unique()"
   ]
  },
  {
   "cell_type": "code",
   "execution_count": 12,
   "metadata": {
    "colab": {
     "base_uri": "https://localhost:8080/",
     "height": 34
    },
    "colab_type": "code",
    "executionInfo": {
     "elapsed": 1658,
     "status": "ok",
     "timestamp": 1592678200026,
     "user": {
      "displayName": "Prerak Agarwal",
      "photoUrl": "",
      "userId": "01206615471624868818"
     },
     "user_tz": -480
    },
    "id": "mpdGGGIoB2lV",
    "outputId": "cfa35662-87fc-424b-f044-8c7a66ed75d5"
   },
   "outputs": [
    {
     "data": {
      "text/plain": [
       "array([dtype('float64')], dtype=object)"
      ]
     },
     "execution_count": 12,
     "metadata": {},
     "output_type": "execute_result"
    }
   ],
   "source": [
    "test_df.dtypes.unique()"
   ]
  },
  {
   "cell_type": "code",
   "execution_count": 13,
   "metadata": {
    "colab": {},
    "colab_type": "code",
    "id": "CVOXo1q_9EjM"
   },
   "outputs": [],
   "source": [
    "train_df['age'] = train_df['age'].astype(np.uint8)\n",
    "test_df['age'] = test_df['age'].astype(np.uint8)"
   ]
  },
  {
   "cell_type": "code",
   "execution_count": 14,
   "metadata": {
    "colab": {},
    "colab_type": "code",
    "id": "6cLPidSjAQ5K"
   },
   "outputs": [],
   "source": [
    "# Creating a column of target class values using the function defined above.\n",
    "\n",
    "train_df['target'] = train_df['age'].map(class_labels)\n",
    "test_df['target'] = test_df['age'].map(class_labels)"
   ]
  },
  {
   "cell_type": "code",
   "execution_count": 15,
   "metadata": {
    "colab": {
     "base_uri": "https://localhost:8080/",
     "height": 253
    },
    "colab_type": "code",
    "executionInfo": {
     "elapsed": 922,
     "status": "ok",
     "timestamp": 1592678204228,
     "user": {
      "displayName": "Prerak Agarwal",
      "photoUrl": "",
      "userId": "01206615471624868818"
     },
     "user_tz": -480
    },
    "id": "TDYshOdiAQ2S",
    "outputId": "6a2270d3-b9f2-43d2-b825-1ce384c8e36b"
   },
   "outputs": [
    {
     "data": {
      "text/html": [
       "<div>\n",
       "<style scoped>\n",
       "    .dataframe tbody tr th:only-of-type {\n",
       "        vertical-align: middle;\n",
       "    }\n",
       "\n",
       "    .dataframe tbody tr th {\n",
       "        vertical-align: top;\n",
       "    }\n",
       "\n",
       "    .dataframe thead th {\n",
       "        text-align: right;\n",
       "    }\n",
       "</style>\n",
       "<table border=\"1\" class=\"dataframe\">\n",
       "  <thead>\n",
       "    <tr style=\"text-align: right;\">\n",
       "      <th>canny_edge_features</th>\n",
       "      <th>sec1_mean</th>\n",
       "      <th>sec1_std</th>\n",
       "      <th>sec2_mean</th>\n",
       "      <th>sec2_std</th>\n",
       "      <th>sec3_mean</th>\n",
       "      <th>sec3_std</th>\n",
       "      <th>sec4_mean</th>\n",
       "      <th>sec4_std</th>\n",
       "      <th>sec5_mean</th>\n",
       "      <th>sec5_std</th>\n",
       "      <th>...</th>\n",
       "      <th>sec397_mean</th>\n",
       "      <th>sec397_std</th>\n",
       "      <th>sec398_mean</th>\n",
       "      <th>sec398_std</th>\n",
       "      <th>sec399_mean</th>\n",
       "      <th>sec399_std</th>\n",
       "      <th>sec400_mean</th>\n",
       "      <th>sec400_std</th>\n",
       "      <th>age</th>\n",
       "      <th>target</th>\n",
       "    </tr>\n",
       "  </thead>\n",
       "  <tbody>\n",
       "    <tr>\n",
       "      <th>0</th>\n",
       "      <td>0.00</td>\n",
       "      <td>0.000000</td>\n",
       "      <td>0.00</td>\n",
       "      <td>0.000000</td>\n",
       "      <td>0.00</td>\n",
       "      <td>0.000000</td>\n",
       "      <td>0.00</td>\n",
       "      <td>0.000000</td>\n",
       "      <td>0.00</td>\n",
       "      <td>0.000000</td>\n",
       "      <td>...</td>\n",
       "      <td>0.21</td>\n",
       "      <td>0.407308</td>\n",
       "      <td>0.27</td>\n",
       "      <td>0.443959</td>\n",
       "      <td>0.22</td>\n",
       "      <td>0.414246</td>\n",
       "      <td>0.24</td>\n",
       "      <td>0.427083</td>\n",
       "      <td>20</td>\n",
       "      <td>3</td>\n",
       "    </tr>\n",
       "    <tr>\n",
       "      <th>1</th>\n",
       "      <td>0.00</td>\n",
       "      <td>0.000000</td>\n",
       "      <td>0.00</td>\n",
       "      <td>0.000000</td>\n",
       "      <td>0.00</td>\n",
       "      <td>0.000000</td>\n",
       "      <td>0.12</td>\n",
       "      <td>0.324962</td>\n",
       "      <td>0.00</td>\n",
       "      <td>0.000000</td>\n",
       "      <td>...</td>\n",
       "      <td>0.00</td>\n",
       "      <td>0.000000</td>\n",
       "      <td>0.00</td>\n",
       "      <td>0.000000</td>\n",
       "      <td>0.00</td>\n",
       "      <td>0.000000</td>\n",
       "      <td>0.00</td>\n",
       "      <td>0.000000</td>\n",
       "      <td>9</td>\n",
       "      <td>2</td>\n",
       "    </tr>\n",
       "    <tr>\n",
       "      <th>2</th>\n",
       "      <td>0.02</td>\n",
       "      <td>0.140000</td>\n",
       "      <td>0.15</td>\n",
       "      <td>0.357071</td>\n",
       "      <td>0.19</td>\n",
       "      <td>0.392301</td>\n",
       "      <td>0.17</td>\n",
       "      <td>0.375633</td>\n",
       "      <td>0.16</td>\n",
       "      <td>0.366606</td>\n",
       "      <td>...</td>\n",
       "      <td>0.12</td>\n",
       "      <td>0.324962</td>\n",
       "      <td>0.22</td>\n",
       "      <td>0.414246</td>\n",
       "      <td>0.20</td>\n",
       "      <td>0.400000</td>\n",
       "      <td>0.16</td>\n",
       "      <td>0.366606</td>\n",
       "      <td>8</td>\n",
       "      <td>2</td>\n",
       "    </tr>\n",
       "    <tr>\n",
       "      <th>3</th>\n",
       "      <td>0.22</td>\n",
       "      <td>0.414246</td>\n",
       "      <td>0.06</td>\n",
       "      <td>0.237487</td>\n",
       "      <td>0.25</td>\n",
       "      <td>0.433013</td>\n",
       "      <td>0.17</td>\n",
       "      <td>0.375633</td>\n",
       "      <td>0.00</td>\n",
       "      <td>0.000000</td>\n",
       "      <td>...</td>\n",
       "      <td>0.00</td>\n",
       "      <td>0.000000</td>\n",
       "      <td>0.00</td>\n",
       "      <td>0.000000</td>\n",
       "      <td>0.00</td>\n",
       "      <td>0.000000</td>\n",
       "      <td>0.09</td>\n",
       "      <td>0.286182</td>\n",
       "      <td>40</td>\n",
       "      <td>8</td>\n",
       "    </tr>\n",
       "    <tr>\n",
       "      <th>4</th>\n",
       "      <td>0.09</td>\n",
       "      <td>0.286182</td>\n",
       "      <td>0.12</td>\n",
       "      <td>0.324962</td>\n",
       "      <td>0.00</td>\n",
       "      <td>0.000000</td>\n",
       "      <td>0.00</td>\n",
       "      <td>0.000000</td>\n",
       "      <td>0.00</td>\n",
       "      <td>0.000000</td>\n",
       "      <td>...</td>\n",
       "      <td>0.12</td>\n",
       "      <td>0.324962</td>\n",
       "      <td>0.00</td>\n",
       "      <td>0.000000</td>\n",
       "      <td>0.00</td>\n",
       "      <td>0.000000</td>\n",
       "      <td>0.00</td>\n",
       "      <td>0.000000</td>\n",
       "      <td>21</td>\n",
       "      <td>4</td>\n",
       "    </tr>\n",
       "  </tbody>\n",
       "</table>\n",
       "<p>5 rows × 802 columns</p>\n",
       "</div>"
      ],
      "text/plain": [
       "canny_edge_features  sec1_mean  sec1_std  sec2_mean  sec2_std  sec3_mean  \\\n",
       "0                         0.00  0.000000       0.00  0.000000       0.00   \n",
       "1                         0.00  0.000000       0.00  0.000000       0.00   \n",
       "2                         0.02  0.140000       0.15  0.357071       0.19   \n",
       "3                         0.22  0.414246       0.06  0.237487       0.25   \n",
       "4                         0.09  0.286182       0.12  0.324962       0.00   \n",
       "\n",
       "canny_edge_features  sec3_std  sec4_mean  sec4_std  sec5_mean  sec5_std  ...  \\\n",
       "0                    0.000000       0.00  0.000000       0.00  0.000000  ...   \n",
       "1                    0.000000       0.12  0.324962       0.00  0.000000  ...   \n",
       "2                    0.392301       0.17  0.375633       0.16  0.366606  ...   \n",
       "3                    0.433013       0.17  0.375633       0.00  0.000000  ...   \n",
       "4                    0.000000       0.00  0.000000       0.00  0.000000  ...   \n",
       "\n",
       "canny_edge_features  sec397_mean  sec397_std  sec398_mean  sec398_std  \\\n",
       "0                           0.21    0.407308         0.27    0.443959   \n",
       "1                           0.00    0.000000         0.00    0.000000   \n",
       "2                           0.12    0.324962         0.22    0.414246   \n",
       "3                           0.00    0.000000         0.00    0.000000   \n",
       "4                           0.12    0.324962         0.00    0.000000   \n",
       "\n",
       "canny_edge_features  sec399_mean  sec399_std  sec400_mean  sec400_std  age  \\\n",
       "0                           0.22    0.414246         0.24    0.427083   20   \n",
       "1                           0.00    0.000000         0.00    0.000000    9   \n",
       "2                           0.20    0.400000         0.16    0.366606    8   \n",
       "3                           0.00    0.000000         0.09    0.286182   40   \n",
       "4                           0.00    0.000000         0.00    0.000000   21   \n",
       "\n",
       "canny_edge_features  target  \n",
       "0                         3  \n",
       "1                         2  \n",
       "2                         2  \n",
       "3                         8  \n",
       "4                         4  \n",
       "\n",
       "[5 rows x 802 columns]"
      ]
     },
     "execution_count": 15,
     "metadata": {},
     "output_type": "execute_result"
    }
   ],
   "source": [
    "train_df.head()"
   ]
  },
  {
   "cell_type": "code",
   "execution_count": 16,
   "metadata": {
    "colab": {
     "base_uri": "https://localhost:8080/",
     "height": 253
    },
    "colab_type": "code",
    "executionInfo": {
     "elapsed": 1702,
     "status": "ok",
     "timestamp": 1592678207994,
     "user": {
      "displayName": "Prerak Agarwal",
      "photoUrl": "",
      "userId": "01206615471624868818"
     },
     "user_tz": -480
    },
    "id": "Oqp0sLZRCN1u",
    "outputId": "6f1cc786-f9e2-497c-b045-6a11c64f19aa"
   },
   "outputs": [
    {
     "data": {
      "text/html": [
       "<div>\n",
       "<style scoped>\n",
       "    .dataframe tbody tr th:only-of-type {\n",
       "        vertical-align: middle;\n",
       "    }\n",
       "\n",
       "    .dataframe tbody tr th {\n",
       "        vertical-align: top;\n",
       "    }\n",
       "\n",
       "    .dataframe thead th {\n",
       "        text-align: right;\n",
       "    }\n",
       "</style>\n",
       "<table border=\"1\" class=\"dataframe\">\n",
       "  <thead>\n",
       "    <tr style=\"text-align: right;\">\n",
       "      <th>canny_edge_features</th>\n",
       "      <th>sec1_mean</th>\n",
       "      <th>sec1_std</th>\n",
       "      <th>sec2_mean</th>\n",
       "      <th>sec2_std</th>\n",
       "      <th>sec3_mean</th>\n",
       "      <th>sec3_std</th>\n",
       "      <th>sec4_mean</th>\n",
       "      <th>sec4_std</th>\n",
       "      <th>sec5_mean</th>\n",
       "      <th>sec5_std</th>\n",
       "      <th>...</th>\n",
       "      <th>sec397_mean</th>\n",
       "      <th>sec397_std</th>\n",
       "      <th>sec398_mean</th>\n",
       "      <th>sec398_std</th>\n",
       "      <th>sec399_mean</th>\n",
       "      <th>sec399_std</th>\n",
       "      <th>sec400_mean</th>\n",
       "      <th>sec400_std</th>\n",
       "      <th>age</th>\n",
       "      <th>target</th>\n",
       "    </tr>\n",
       "  </thead>\n",
       "  <tbody>\n",
       "    <tr>\n",
       "      <th>0</th>\n",
       "      <td>0.16</td>\n",
       "      <td>0.366606</td>\n",
       "      <td>0.24</td>\n",
       "      <td>0.427083</td>\n",
       "      <td>0.04</td>\n",
       "      <td>0.195959</td>\n",
       "      <td>0.00</td>\n",
       "      <td>0.000000</td>\n",
       "      <td>0.00</td>\n",
       "      <td>0.000000</td>\n",
       "      <td>...</td>\n",
       "      <td>0.04</td>\n",
       "      <td>0.195959</td>\n",
       "      <td>0.10</td>\n",
       "      <td>0.300000</td>\n",
       "      <td>0.07</td>\n",
       "      <td>0.255147</td>\n",
       "      <td>0.00</td>\n",
       "      <td>0.000000</td>\n",
       "      <td>9</td>\n",
       "      <td>2</td>\n",
       "    </tr>\n",
       "    <tr>\n",
       "      <th>1</th>\n",
       "      <td>0.16</td>\n",
       "      <td>0.366606</td>\n",
       "      <td>0.18</td>\n",
       "      <td>0.384187</td>\n",
       "      <td>0.17</td>\n",
       "      <td>0.375633</td>\n",
       "      <td>0.24</td>\n",
       "      <td>0.427083</td>\n",
       "      <td>0.27</td>\n",
       "      <td>0.443959</td>\n",
       "      <td>...</td>\n",
       "      <td>0.13</td>\n",
       "      <td>0.336303</td>\n",
       "      <td>0.00</td>\n",
       "      <td>0.000000</td>\n",
       "      <td>0.00</td>\n",
       "      <td>0.000000</td>\n",
       "      <td>0.00</td>\n",
       "      <td>0.000000</td>\n",
       "      <td>42</td>\n",
       "      <td>8</td>\n",
       "    </tr>\n",
       "    <tr>\n",
       "      <th>2</th>\n",
       "      <td>0.09</td>\n",
       "      <td>0.286182</td>\n",
       "      <td>0.11</td>\n",
       "      <td>0.312890</td>\n",
       "      <td>0.00</td>\n",
       "      <td>0.000000</td>\n",
       "      <td>0.00</td>\n",
       "      <td>0.000000</td>\n",
       "      <td>0.00</td>\n",
       "      <td>0.000000</td>\n",
       "      <td>...</td>\n",
       "      <td>0.15</td>\n",
       "      <td>0.357071</td>\n",
       "      <td>0.13</td>\n",
       "      <td>0.336303</td>\n",
       "      <td>0.00</td>\n",
       "      <td>0.000000</td>\n",
       "      <td>0.00</td>\n",
       "      <td>0.000000</td>\n",
       "      <td>40</td>\n",
       "      <td>8</td>\n",
       "    </tr>\n",
       "    <tr>\n",
       "      <th>3</th>\n",
       "      <td>0.00</td>\n",
       "      <td>0.000000</td>\n",
       "      <td>0.08</td>\n",
       "      <td>0.271293</td>\n",
       "      <td>0.21</td>\n",
       "      <td>0.407308</td>\n",
       "      <td>0.09</td>\n",
       "      <td>0.286182</td>\n",
       "      <td>0.00</td>\n",
       "      <td>0.000000</td>\n",
       "      <td>...</td>\n",
       "      <td>0.00</td>\n",
       "      <td>0.000000</td>\n",
       "      <td>0.00</td>\n",
       "      <td>0.000000</td>\n",
       "      <td>0.00</td>\n",
       "      <td>0.000000</td>\n",
       "      <td>0.00</td>\n",
       "      <td>0.000000</td>\n",
       "      <td>34</td>\n",
       "      <td>7</td>\n",
       "    </tr>\n",
       "    <tr>\n",
       "      <th>4</th>\n",
       "      <td>0.09</td>\n",
       "      <td>0.286182</td>\n",
       "      <td>0.19</td>\n",
       "      <td>0.392301</td>\n",
       "      <td>0.15</td>\n",
       "      <td>0.357071</td>\n",
       "      <td>0.00</td>\n",
       "      <td>0.000000</td>\n",
       "      <td>0.00</td>\n",
       "      <td>0.000000</td>\n",
       "      <td>...</td>\n",
       "      <td>0.00</td>\n",
       "      <td>0.000000</td>\n",
       "      <td>0.10</td>\n",
       "      <td>0.300000</td>\n",
       "      <td>0.11</td>\n",
       "      <td>0.312890</td>\n",
       "      <td>0.22</td>\n",
       "      <td>0.414246</td>\n",
       "      <td>6</td>\n",
       "      <td>2</td>\n",
       "    </tr>\n",
       "  </tbody>\n",
       "</table>\n",
       "<p>5 rows × 802 columns</p>\n",
       "</div>"
      ],
      "text/plain": [
       "canny_edge_features  sec1_mean  sec1_std  sec2_mean  sec2_std  sec3_mean  \\\n",
       "0                         0.16  0.366606       0.24  0.427083       0.04   \n",
       "1                         0.16  0.366606       0.18  0.384187       0.17   \n",
       "2                         0.09  0.286182       0.11  0.312890       0.00   \n",
       "3                         0.00  0.000000       0.08  0.271293       0.21   \n",
       "4                         0.09  0.286182       0.19  0.392301       0.15   \n",
       "\n",
       "canny_edge_features  sec3_std  sec4_mean  sec4_std  sec5_mean  sec5_std  ...  \\\n",
       "0                    0.195959       0.00  0.000000       0.00  0.000000  ...   \n",
       "1                    0.375633       0.24  0.427083       0.27  0.443959  ...   \n",
       "2                    0.000000       0.00  0.000000       0.00  0.000000  ...   \n",
       "3                    0.407308       0.09  0.286182       0.00  0.000000  ...   \n",
       "4                    0.357071       0.00  0.000000       0.00  0.000000  ...   \n",
       "\n",
       "canny_edge_features  sec397_mean  sec397_std  sec398_mean  sec398_std  \\\n",
       "0                           0.04    0.195959         0.10    0.300000   \n",
       "1                           0.13    0.336303         0.00    0.000000   \n",
       "2                           0.15    0.357071         0.13    0.336303   \n",
       "3                           0.00    0.000000         0.00    0.000000   \n",
       "4                           0.00    0.000000         0.10    0.300000   \n",
       "\n",
       "canny_edge_features  sec399_mean  sec399_std  sec400_mean  sec400_std  age  \\\n",
       "0                           0.07    0.255147         0.00    0.000000    9   \n",
       "1                           0.00    0.000000         0.00    0.000000   42   \n",
       "2                           0.00    0.000000         0.00    0.000000   40   \n",
       "3                           0.00    0.000000         0.00    0.000000   34   \n",
       "4                           0.11    0.312890         0.22    0.414246    6   \n",
       "\n",
       "canny_edge_features  target  \n",
       "0                         2  \n",
       "1                         8  \n",
       "2                         8  \n",
       "3                         7  \n",
       "4                         2  \n",
       "\n",
       "[5 rows x 802 columns]"
      ]
     },
     "execution_count": 16,
     "metadata": {},
     "output_type": "execute_result"
    }
   ],
   "source": [
    "test_df.head()"
   ]
  },
  {
   "cell_type": "code",
   "execution_count": 17,
   "metadata": {
    "colab": {},
    "colab_type": "code",
    "id": "FXgcBWZcAQz3"
   },
   "outputs": [],
   "source": [
    "# Splitting the above train and test dataframes into features (X) and target (y).\n",
    "\n",
    "X_train = train_df.drop(columns=['age', 'target'])\n",
    "y_train = train_df['target']\n",
    "\n",
    "X_test = test_df.drop(columns=['age', 'target'])\n",
    "y_test = test_df['target']"
   ]
  },
  {
   "cell_type": "code",
   "execution_count": 18,
   "metadata": {
    "colab": {
     "base_uri": "https://localhost:8080/",
     "height": 253
    },
    "colab_type": "code",
    "executionInfo": {
     "elapsed": 840,
     "status": "ok",
     "timestamp": 1592678213270,
     "user": {
      "displayName": "Prerak Agarwal",
      "photoUrl": "",
      "userId": "01206615471624868818"
     },
     "user_tz": -480
    },
    "id": "dOT5WwGXXCzD",
    "outputId": "63505b5b-3347-4d4c-c91d-273a235565b3"
   },
   "outputs": [
    {
     "data": {
      "text/html": [
       "<div>\n",
       "<style scoped>\n",
       "    .dataframe tbody tr th:only-of-type {\n",
       "        vertical-align: middle;\n",
       "    }\n",
       "\n",
       "    .dataframe tbody tr th {\n",
       "        vertical-align: top;\n",
       "    }\n",
       "\n",
       "    .dataframe thead th {\n",
       "        text-align: right;\n",
       "    }\n",
       "</style>\n",
       "<table border=\"1\" class=\"dataframe\">\n",
       "  <thead>\n",
       "    <tr style=\"text-align: right;\">\n",
       "      <th>canny_edge_features</th>\n",
       "      <th>sec1_mean</th>\n",
       "      <th>sec1_std</th>\n",
       "      <th>sec2_mean</th>\n",
       "      <th>sec2_std</th>\n",
       "      <th>sec3_mean</th>\n",
       "      <th>sec3_std</th>\n",
       "      <th>sec4_mean</th>\n",
       "      <th>sec4_std</th>\n",
       "      <th>sec5_mean</th>\n",
       "      <th>sec5_std</th>\n",
       "      <th>...</th>\n",
       "      <th>sec396_mean</th>\n",
       "      <th>sec396_std</th>\n",
       "      <th>sec397_mean</th>\n",
       "      <th>sec397_std</th>\n",
       "      <th>sec398_mean</th>\n",
       "      <th>sec398_std</th>\n",
       "      <th>sec399_mean</th>\n",
       "      <th>sec399_std</th>\n",
       "      <th>sec400_mean</th>\n",
       "      <th>sec400_std</th>\n",
       "    </tr>\n",
       "  </thead>\n",
       "  <tbody>\n",
       "    <tr>\n",
       "      <th>0</th>\n",
       "      <td>0.00</td>\n",
       "      <td>0.000000</td>\n",
       "      <td>0.00</td>\n",
       "      <td>0.000000</td>\n",
       "      <td>0.00</td>\n",
       "      <td>0.000000</td>\n",
       "      <td>0.00</td>\n",
       "      <td>0.000000</td>\n",
       "      <td>0.00</td>\n",
       "      <td>0.000000</td>\n",
       "      <td>...</td>\n",
       "      <td>0.15</td>\n",
       "      <td>0.357071</td>\n",
       "      <td>0.21</td>\n",
       "      <td>0.407308</td>\n",
       "      <td>0.27</td>\n",
       "      <td>0.443959</td>\n",
       "      <td>0.22</td>\n",
       "      <td>0.414246</td>\n",
       "      <td>0.24</td>\n",
       "      <td>0.427083</td>\n",
       "    </tr>\n",
       "    <tr>\n",
       "      <th>1</th>\n",
       "      <td>0.00</td>\n",
       "      <td>0.000000</td>\n",
       "      <td>0.00</td>\n",
       "      <td>0.000000</td>\n",
       "      <td>0.00</td>\n",
       "      <td>0.000000</td>\n",
       "      <td>0.12</td>\n",
       "      <td>0.324962</td>\n",
       "      <td>0.00</td>\n",
       "      <td>0.000000</td>\n",
       "      <td>...</td>\n",
       "      <td>0.00</td>\n",
       "      <td>0.000000</td>\n",
       "      <td>0.00</td>\n",
       "      <td>0.000000</td>\n",
       "      <td>0.00</td>\n",
       "      <td>0.000000</td>\n",
       "      <td>0.00</td>\n",
       "      <td>0.000000</td>\n",
       "      <td>0.00</td>\n",
       "      <td>0.000000</td>\n",
       "    </tr>\n",
       "    <tr>\n",
       "      <th>2</th>\n",
       "      <td>0.02</td>\n",
       "      <td>0.140000</td>\n",
       "      <td>0.15</td>\n",
       "      <td>0.357071</td>\n",
       "      <td>0.19</td>\n",
       "      <td>0.392301</td>\n",
       "      <td>0.17</td>\n",
       "      <td>0.375633</td>\n",
       "      <td>0.16</td>\n",
       "      <td>0.366606</td>\n",
       "      <td>...</td>\n",
       "      <td>0.12</td>\n",
       "      <td>0.324962</td>\n",
       "      <td>0.12</td>\n",
       "      <td>0.324962</td>\n",
       "      <td>0.22</td>\n",
       "      <td>0.414246</td>\n",
       "      <td>0.20</td>\n",
       "      <td>0.400000</td>\n",
       "      <td>0.16</td>\n",
       "      <td>0.366606</td>\n",
       "    </tr>\n",
       "    <tr>\n",
       "      <th>3</th>\n",
       "      <td>0.22</td>\n",
       "      <td>0.414246</td>\n",
       "      <td>0.06</td>\n",
       "      <td>0.237487</td>\n",
       "      <td>0.25</td>\n",
       "      <td>0.433013</td>\n",
       "      <td>0.17</td>\n",
       "      <td>0.375633</td>\n",
       "      <td>0.00</td>\n",
       "      <td>0.000000</td>\n",
       "      <td>...</td>\n",
       "      <td>0.00</td>\n",
       "      <td>0.000000</td>\n",
       "      <td>0.00</td>\n",
       "      <td>0.000000</td>\n",
       "      <td>0.00</td>\n",
       "      <td>0.000000</td>\n",
       "      <td>0.00</td>\n",
       "      <td>0.000000</td>\n",
       "      <td>0.09</td>\n",
       "      <td>0.286182</td>\n",
       "    </tr>\n",
       "    <tr>\n",
       "      <th>4</th>\n",
       "      <td>0.09</td>\n",
       "      <td>0.286182</td>\n",
       "      <td>0.12</td>\n",
       "      <td>0.324962</td>\n",
       "      <td>0.00</td>\n",
       "      <td>0.000000</td>\n",
       "      <td>0.00</td>\n",
       "      <td>0.000000</td>\n",
       "      <td>0.00</td>\n",
       "      <td>0.000000</td>\n",
       "      <td>...</td>\n",
       "      <td>0.13</td>\n",
       "      <td>0.336303</td>\n",
       "      <td>0.12</td>\n",
       "      <td>0.324962</td>\n",
       "      <td>0.00</td>\n",
       "      <td>0.000000</td>\n",
       "      <td>0.00</td>\n",
       "      <td>0.000000</td>\n",
       "      <td>0.00</td>\n",
       "      <td>0.000000</td>\n",
       "    </tr>\n",
       "  </tbody>\n",
       "</table>\n",
       "<p>5 rows × 800 columns</p>\n",
       "</div>"
      ],
      "text/plain": [
       "canny_edge_features  sec1_mean  sec1_std  sec2_mean  sec2_std  sec3_mean  \\\n",
       "0                         0.00  0.000000       0.00  0.000000       0.00   \n",
       "1                         0.00  0.000000       0.00  0.000000       0.00   \n",
       "2                         0.02  0.140000       0.15  0.357071       0.19   \n",
       "3                         0.22  0.414246       0.06  0.237487       0.25   \n",
       "4                         0.09  0.286182       0.12  0.324962       0.00   \n",
       "\n",
       "canny_edge_features  sec3_std  sec4_mean  sec4_std  sec5_mean  sec5_std  ...  \\\n",
       "0                    0.000000       0.00  0.000000       0.00  0.000000  ...   \n",
       "1                    0.000000       0.12  0.324962       0.00  0.000000  ...   \n",
       "2                    0.392301       0.17  0.375633       0.16  0.366606  ...   \n",
       "3                    0.433013       0.17  0.375633       0.00  0.000000  ...   \n",
       "4                    0.000000       0.00  0.000000       0.00  0.000000  ...   \n",
       "\n",
       "canny_edge_features  sec396_mean  sec396_std  sec397_mean  sec397_std  \\\n",
       "0                           0.15    0.357071         0.21    0.407308   \n",
       "1                           0.00    0.000000         0.00    0.000000   \n",
       "2                           0.12    0.324962         0.12    0.324962   \n",
       "3                           0.00    0.000000         0.00    0.000000   \n",
       "4                           0.13    0.336303         0.12    0.324962   \n",
       "\n",
       "canny_edge_features  sec398_mean  sec398_std  sec399_mean  sec399_std  \\\n",
       "0                           0.27    0.443959         0.22    0.414246   \n",
       "1                           0.00    0.000000         0.00    0.000000   \n",
       "2                           0.22    0.414246         0.20    0.400000   \n",
       "3                           0.00    0.000000         0.00    0.000000   \n",
       "4                           0.00    0.000000         0.00    0.000000   \n",
       "\n",
       "canny_edge_features  sec400_mean  sec400_std  \n",
       "0                           0.24    0.427083  \n",
       "1                           0.00    0.000000  \n",
       "2                           0.16    0.366606  \n",
       "3                           0.09    0.286182  \n",
       "4                           0.00    0.000000  \n",
       "\n",
       "[5 rows x 800 columns]"
      ]
     },
     "execution_count": 18,
     "metadata": {},
     "output_type": "execute_result"
    }
   ],
   "source": [
    "X_train.head()"
   ]
  },
  {
   "cell_type": "code",
   "execution_count": 19,
   "metadata": {
    "colab": {
     "base_uri": "https://localhost:8080/",
     "height": 34
    },
    "colab_type": "code",
    "executionInfo": {
     "elapsed": 1270,
     "status": "ok",
     "timestamp": 1592678217355,
     "user": {
      "displayName": "Prerak Agarwal",
      "photoUrl": "",
      "userId": "01206615471624868818"
     },
     "user_tz": -480
    },
    "id": "xFwo3LjqXEbH",
    "outputId": "21f4fc8f-218e-4375-cd01-ecde9cba04a4"
   },
   "outputs": [
    {
     "data": {
      "text/plain": [
       "(23440, 800)"
      ]
     },
     "execution_count": 19,
     "metadata": {},
     "output_type": "execute_result"
    }
   ],
   "source": [
    "X_train.shape"
   ]
  },
  {
   "cell_type": "code",
   "execution_count": 20,
   "metadata": {
    "colab": {
     "base_uri": "https://localhost:8080/",
     "height": 253
    },
    "colab_type": "code",
    "executionInfo": {
     "elapsed": 961,
     "status": "ok",
     "timestamp": 1592678218108,
     "user": {
      "displayName": "Prerak Agarwal",
      "photoUrl": "",
      "userId": "01206615471624868818"
     },
     "user_tz": -480
    },
    "id": "dTW_ujg4XESs",
    "outputId": "783fcdbf-b7c9-47d7-b57f-be3d4a0b9476"
   },
   "outputs": [
    {
     "data": {
      "text/html": [
       "<div>\n",
       "<style scoped>\n",
       "    .dataframe tbody tr th:only-of-type {\n",
       "        vertical-align: middle;\n",
       "    }\n",
       "\n",
       "    .dataframe tbody tr th {\n",
       "        vertical-align: top;\n",
       "    }\n",
       "\n",
       "    .dataframe thead th {\n",
       "        text-align: right;\n",
       "    }\n",
       "</style>\n",
       "<table border=\"1\" class=\"dataframe\">\n",
       "  <thead>\n",
       "    <tr style=\"text-align: right;\">\n",
       "      <th>canny_edge_features</th>\n",
       "      <th>sec1_mean</th>\n",
       "      <th>sec1_std</th>\n",
       "      <th>sec2_mean</th>\n",
       "      <th>sec2_std</th>\n",
       "      <th>sec3_mean</th>\n",
       "      <th>sec3_std</th>\n",
       "      <th>sec4_mean</th>\n",
       "      <th>sec4_std</th>\n",
       "      <th>sec5_mean</th>\n",
       "      <th>sec5_std</th>\n",
       "      <th>...</th>\n",
       "      <th>sec396_mean</th>\n",
       "      <th>sec396_std</th>\n",
       "      <th>sec397_mean</th>\n",
       "      <th>sec397_std</th>\n",
       "      <th>sec398_mean</th>\n",
       "      <th>sec398_std</th>\n",
       "      <th>sec399_mean</th>\n",
       "      <th>sec399_std</th>\n",
       "      <th>sec400_mean</th>\n",
       "      <th>sec400_std</th>\n",
       "    </tr>\n",
       "  </thead>\n",
       "  <tbody>\n",
       "    <tr>\n",
       "      <th>0</th>\n",
       "      <td>0.16</td>\n",
       "      <td>0.366606</td>\n",
       "      <td>0.24</td>\n",
       "      <td>0.427083</td>\n",
       "      <td>0.04</td>\n",
       "      <td>0.195959</td>\n",
       "      <td>0.00</td>\n",
       "      <td>0.000000</td>\n",
       "      <td>0.00</td>\n",
       "      <td>0.000000</td>\n",
       "      <td>...</td>\n",
       "      <td>0.10</td>\n",
       "      <td>0.300000</td>\n",
       "      <td>0.04</td>\n",
       "      <td>0.195959</td>\n",
       "      <td>0.10</td>\n",
       "      <td>0.300000</td>\n",
       "      <td>0.07</td>\n",
       "      <td>0.255147</td>\n",
       "      <td>0.00</td>\n",
       "      <td>0.000000</td>\n",
       "    </tr>\n",
       "    <tr>\n",
       "      <th>1</th>\n",
       "      <td>0.16</td>\n",
       "      <td>0.366606</td>\n",
       "      <td>0.18</td>\n",
       "      <td>0.384187</td>\n",
       "      <td>0.17</td>\n",
       "      <td>0.375633</td>\n",
       "      <td>0.24</td>\n",
       "      <td>0.427083</td>\n",
       "      <td>0.27</td>\n",
       "      <td>0.443959</td>\n",
       "      <td>...</td>\n",
       "      <td>0.12</td>\n",
       "      <td>0.324962</td>\n",
       "      <td>0.13</td>\n",
       "      <td>0.336303</td>\n",
       "      <td>0.00</td>\n",
       "      <td>0.000000</td>\n",
       "      <td>0.00</td>\n",
       "      <td>0.000000</td>\n",
       "      <td>0.00</td>\n",
       "      <td>0.000000</td>\n",
       "    </tr>\n",
       "    <tr>\n",
       "      <th>2</th>\n",
       "      <td>0.09</td>\n",
       "      <td>0.286182</td>\n",
       "      <td>0.11</td>\n",
       "      <td>0.312890</td>\n",
       "      <td>0.00</td>\n",
       "      <td>0.000000</td>\n",
       "      <td>0.00</td>\n",
       "      <td>0.000000</td>\n",
       "      <td>0.00</td>\n",
       "      <td>0.000000</td>\n",
       "      <td>...</td>\n",
       "      <td>0.00</td>\n",
       "      <td>0.000000</td>\n",
       "      <td>0.15</td>\n",
       "      <td>0.357071</td>\n",
       "      <td>0.13</td>\n",
       "      <td>0.336303</td>\n",
       "      <td>0.00</td>\n",
       "      <td>0.000000</td>\n",
       "      <td>0.00</td>\n",
       "      <td>0.000000</td>\n",
       "    </tr>\n",
       "    <tr>\n",
       "      <th>3</th>\n",
       "      <td>0.00</td>\n",
       "      <td>0.000000</td>\n",
       "      <td>0.08</td>\n",
       "      <td>0.271293</td>\n",
       "      <td>0.21</td>\n",
       "      <td>0.407308</td>\n",
       "      <td>0.09</td>\n",
       "      <td>0.286182</td>\n",
       "      <td>0.00</td>\n",
       "      <td>0.000000</td>\n",
       "      <td>...</td>\n",
       "      <td>0.00</td>\n",
       "      <td>0.000000</td>\n",
       "      <td>0.00</td>\n",
       "      <td>0.000000</td>\n",
       "      <td>0.00</td>\n",
       "      <td>0.000000</td>\n",
       "      <td>0.00</td>\n",
       "      <td>0.000000</td>\n",
       "      <td>0.00</td>\n",
       "      <td>0.000000</td>\n",
       "    </tr>\n",
       "    <tr>\n",
       "      <th>4</th>\n",
       "      <td>0.09</td>\n",
       "      <td>0.286182</td>\n",
       "      <td>0.19</td>\n",
       "      <td>0.392301</td>\n",
       "      <td>0.15</td>\n",
       "      <td>0.357071</td>\n",
       "      <td>0.00</td>\n",
       "      <td>0.000000</td>\n",
       "      <td>0.00</td>\n",
       "      <td>0.000000</td>\n",
       "      <td>...</td>\n",
       "      <td>0.00</td>\n",
       "      <td>0.000000</td>\n",
       "      <td>0.00</td>\n",
       "      <td>0.000000</td>\n",
       "      <td>0.10</td>\n",
       "      <td>0.300000</td>\n",
       "      <td>0.11</td>\n",
       "      <td>0.312890</td>\n",
       "      <td>0.22</td>\n",
       "      <td>0.414246</td>\n",
       "    </tr>\n",
       "  </tbody>\n",
       "</table>\n",
       "<p>5 rows × 800 columns</p>\n",
       "</div>"
      ],
      "text/plain": [
       "canny_edge_features  sec1_mean  sec1_std  sec2_mean  sec2_std  sec3_mean  \\\n",
       "0                         0.16  0.366606       0.24  0.427083       0.04   \n",
       "1                         0.16  0.366606       0.18  0.384187       0.17   \n",
       "2                         0.09  0.286182       0.11  0.312890       0.00   \n",
       "3                         0.00  0.000000       0.08  0.271293       0.21   \n",
       "4                         0.09  0.286182       0.19  0.392301       0.15   \n",
       "\n",
       "canny_edge_features  sec3_std  sec4_mean  sec4_std  sec5_mean  sec5_std  ...  \\\n",
       "0                    0.195959       0.00  0.000000       0.00  0.000000  ...   \n",
       "1                    0.375633       0.24  0.427083       0.27  0.443959  ...   \n",
       "2                    0.000000       0.00  0.000000       0.00  0.000000  ...   \n",
       "3                    0.407308       0.09  0.286182       0.00  0.000000  ...   \n",
       "4                    0.357071       0.00  0.000000       0.00  0.000000  ...   \n",
       "\n",
       "canny_edge_features  sec396_mean  sec396_std  sec397_mean  sec397_std  \\\n",
       "0                           0.10    0.300000         0.04    0.195959   \n",
       "1                           0.12    0.324962         0.13    0.336303   \n",
       "2                           0.00    0.000000         0.15    0.357071   \n",
       "3                           0.00    0.000000         0.00    0.000000   \n",
       "4                           0.00    0.000000         0.00    0.000000   \n",
       "\n",
       "canny_edge_features  sec398_mean  sec398_std  sec399_mean  sec399_std  \\\n",
       "0                           0.10    0.300000         0.07    0.255147   \n",
       "1                           0.00    0.000000         0.00    0.000000   \n",
       "2                           0.13    0.336303         0.00    0.000000   \n",
       "3                           0.00    0.000000         0.00    0.000000   \n",
       "4                           0.10    0.300000         0.11    0.312890   \n",
       "\n",
       "canny_edge_features  sec400_mean  sec400_std  \n",
       "0                           0.00    0.000000  \n",
       "1                           0.00    0.000000  \n",
       "2                           0.00    0.000000  \n",
       "3                           0.00    0.000000  \n",
       "4                           0.22    0.414246  \n",
       "\n",
       "[5 rows x 800 columns]"
      ]
     },
     "execution_count": 20,
     "metadata": {},
     "output_type": "execute_result"
    }
   ],
   "source": [
    "X_test.head()"
   ]
  },
  {
   "cell_type": "code",
   "execution_count": 21,
   "metadata": {
    "colab": {
     "base_uri": "https://localhost:8080/",
     "height": 34
    },
    "colab_type": "code",
    "executionInfo": {
     "elapsed": 1084,
     "status": "ok",
     "timestamp": 1592678220521,
     "user": {
      "displayName": "Prerak Agarwal",
      "photoUrl": "",
      "userId": "01206615471624868818"
     },
     "user_tz": -480
    },
    "id": "k8hkfwvIXEJv",
    "outputId": "2b57f175-a0f2-41c8-e19f-e005a7a79992"
   },
   "outputs": [
    {
     "data": {
      "text/plain": [
       "(10046, 800)"
      ]
     },
     "execution_count": 21,
     "metadata": {},
     "output_type": "execute_result"
    }
   ],
   "source": [
    "X_test.shape"
   ]
  },
  {
   "cell_type": "code",
   "execution_count": 22,
   "metadata": {
    "colab": {
     "base_uri": "https://localhost:8080/",
     "height": 221
    },
    "colab_type": "code",
    "executionInfo": {
     "elapsed": 1135,
     "status": "ok",
     "timestamp": 1592678221632,
     "user": {
      "displayName": "Prerak Agarwal",
      "photoUrl": "",
      "userId": "01206615471624868818"
     },
     "user_tz": -480
    },
    "id": "_MSUfFwfXD_g",
    "outputId": "23ca7c76-1b22-4b64-9146-96fbab20787f"
   },
   "outputs": [
    {
     "data": {
      "text/plain": [
       "4     2432\n",
       "5     2252\n",
       "8     2245\n",
       "1     2234\n",
       "3     2195\n",
       "7     2160\n",
       "6     2144\n",
       "2     1971\n",
       "9     1962\n",
       "10    1957\n",
       "11    1888\n",
       "Name: target, dtype: int64"
      ]
     },
     "execution_count": 22,
     "metadata": {},
     "output_type": "execute_result"
    }
   ],
   "source": [
    "# Checking the distribution of classes in y_train.\n",
    "\n",
    "y_train.value_counts()"
   ]
  },
  {
   "cell_type": "code",
   "execution_count": 23,
   "metadata": {
    "colab": {
     "base_uri": "https://localhost:8080/",
     "height": 221
    },
    "colab_type": "code",
    "executionInfo": {
     "elapsed": 1701,
     "status": "ok",
     "timestamp": 1592678224961,
     "user": {
      "displayName": "Prerak Agarwal",
      "photoUrl": "",
      "userId": "01206615471624868818"
     },
     "user_tz": -480
    },
    "id": "GYw9YCxOXcxk",
    "outputId": "a6c32391-1efc-41d4-d5dd-ca5ade8e4271"
   },
   "outputs": [
    {
     "data": {
      "text/plain": [
       "4     0.103754\n",
       "5     0.096075\n",
       "8     0.095776\n",
       "1     0.095307\n",
       "3     0.093643\n",
       "7     0.092150\n",
       "6     0.091468\n",
       "2     0.084087\n",
       "9     0.083703\n",
       "10    0.083490\n",
       "11    0.080546\n",
       "Name: target, dtype: float64"
      ]
     },
     "execution_count": 23,
     "metadata": {},
     "output_type": "execute_result"
    }
   ],
   "source": [
    "# Checking the distribution of classes to ensure it is same as y_test.\n",
    "\n",
    "y_train.value_counts(normalize=True)"
   ]
  },
  {
   "cell_type": "code",
   "execution_count": 24,
   "metadata": {
    "colab": {
     "base_uri": "https://localhost:8080/",
     "height": 221
    },
    "colab_type": "code",
    "executionInfo": {
     "elapsed": 1439,
     "status": "ok",
     "timestamp": 1592678226215,
     "user": {
      "displayName": "Prerak Agarwal",
      "photoUrl": "",
      "userId": "01206615471624868818"
     },
     "user_tz": -480
    },
    "id": "DUIPTQbOXcmd",
    "outputId": "d7521890-1a81-4f96-a968-e83e14ae4b9d"
   },
   "outputs": [
    {
     "data": {
      "text/plain": [
       "4     0.103723\n",
       "5     0.096058\n",
       "8     0.095760\n",
       "1     0.095361\n",
       "3     0.093669\n",
       "7     0.092176\n",
       "6     0.091479\n",
       "2     0.084113\n",
       "9     0.083615\n",
       "10    0.083516\n",
       "11    0.080530\n",
       "Name: target, dtype: float64"
      ]
     },
     "execution_count": 24,
     "metadata": {},
     "output_type": "execute_result"
    }
   ],
   "source": [
    "# Checking the distribution of classes to ensure it is same as y_train.\n",
    "\n",
    "y_test.value_counts(normalize=True)"
   ]
  },
  {
   "cell_type": "code",
   "execution_count": 25,
   "metadata": {
    "colab": {},
    "colab_type": "code",
    "id": "vGmOW4-xXcXD"
   },
   "outputs": [],
   "source": [
    "# Scaling X_train to the standard scale.\n",
    "\n",
    "ss = StandardScaler()\n",
    "X_train_sc = ss.fit_transform(X_train)"
   ]
  },
  {
   "cell_type": "code",
   "execution_count": 26,
   "metadata": {
    "colab": {},
    "colab_type": "code",
    "id": "9Wu5yNOxXcNr"
   },
   "outputs": [],
   "source": [
    "# Transforming X_test to the same scale.\n",
    "\n",
    "X_test_sc = ss.transform(X_test)"
   ]
  },
  {
   "cell_type": "code",
   "execution_count": 27,
   "metadata": {
    "colab": {},
    "colab_type": "code",
    "id": "hVcPGxaPXcF3"
   },
   "outputs": [],
   "source": [
    "# Creating a RandomForestClassifier object.\n",
    "\n",
    "rfc = RandomForestClassifier(# class_weight='balanced_subsample', \n",
    "                             # n_estimators=200,\n",
    "                             # max_depth=5,\n",
    "                             ccp_alpha=0,\n",
    "                             min_samples_split=2,\n",
    "                             min_samples_leaf=1,\n",
    "                             random_state=42\n",
    "                            )"
   ]
  },
  {
   "cell_type": "code",
   "execution_count": 28,
   "metadata": {
    "colab": {},
    "colab_type": "code",
    "id": "YjtKvOF-a2Kg"
   },
   "outputs": [],
   "source": [
    "# Establishing ranges of hyperparameters of RandomForestClassifier for GridSearchCV.\n",
    "\n",
    "rfc_params = {'n_estimators' : [50, 100, 200],\n",
    "              'max_depth' : [5, 7, 9],\n",
    "              # 'ccp_alpha' : [0, 0.001, 0.01, 0.1, 1, 10],\n",
    "              # 'min_samples_split' : [2, 5, 10, 15, 20],\n",
    "              # 'min_samples_leaf' : [2, 3, 4, 5, 6]\n",
    "             }"
   ]
  },
  {
   "cell_type": "code",
   "execution_count": 29,
   "metadata": {
    "colab": {},
    "colab_type": "code",
    "id": "53hQAD7_cN9j"
   },
   "outputs": [],
   "source": [
    "# Creating a GridSearchCV object for the RandomForestClassifier object defined above.\n",
    "\n",
    "rfc_gs = GridSearchCV(rfc, param_grid=rfc_params, n_jobs=-1, cv=5)"
   ]
  },
  {
   "cell_type": "code",
   "execution_count": 30,
   "metadata": {
    "colab": {
     "base_uri": "https://localhost:8080/",
     "height": 357
    },
    "colab_type": "code",
    "executionInfo": {
     "elapsed": 417867,
     "status": "ok",
     "timestamp": 1592680978181,
     "user": {
      "displayName": "Prerak Agarwal",
      "photoUrl": "",
      "userId": "01206615471624868818"
     },
     "user_tz": -480
    },
    "id": "_QVC2fdLXb5K",
    "outputId": "7920b97a-7c09-45dc-b0e9-f540c9f37f2a"
   },
   "outputs": [
    {
     "data": {
      "text/plain": [
       "GridSearchCV(cv=5,\n",
       "             estimator=RandomForestClassifier(ccp_alpha=0, random_state=42),\n",
       "             n_jobs=-1,\n",
       "             param_grid={'max_depth': [5, 7, 9],\n",
       "                         'n_estimators': [50, 100, 200]})"
      ]
     },
     "execution_count": 30,
     "metadata": {},
     "output_type": "execute_result"
    }
   ],
   "source": [
    "# Fitting X_train_sc and y_train on GridSearchCV object with RandomForestClassifier defined above.\n",
    "\n",
    "rfc_gs.fit(X_train_sc, y_train)"
   ]
  },
  {
   "cell_type": "code",
   "execution_count": 31,
   "metadata": {
    "colab": {
     "base_uri": "https://localhost:8080/",
     "height": 34
    },
    "colab_type": "code",
    "executionInfo": {
     "elapsed": 416465,
     "status": "ok",
     "timestamp": 1592680978188,
     "user": {
      "displayName": "Prerak Agarwal",
      "photoUrl": "",
      "userId": "01206615471624868818"
     },
     "user_tz": -480
    },
    "id": "3cm_jceDdA6Q",
    "outputId": "b9076712-dba7-41c4-f827-ce22fe5f3e51"
   },
   "outputs": [
    {
     "data": {
      "text/plain": [
       "{'max_depth': 9, 'n_estimators': 200}"
      ]
     },
     "execution_count": 31,
     "metadata": {},
     "output_type": "execute_result"
    }
   ],
   "source": [
    "# Best combination of hyperparameters suggested by GridSearchCV.\n",
    "\n",
    "rfc_gs.best_params_"
   ]
  },
  {
   "cell_type": "code",
   "execution_count": 32,
   "metadata": {
    "colab": {
     "base_uri": "https://localhost:8080/",
     "height": 34
    },
    "colab_type": "code",
    "executionInfo": {
     "elapsed": 1303,
     "status": "ok",
     "timestamp": 1592681015119,
     "user": {
      "displayName": "Prerak Agarwal",
      "photoUrl": "",
      "userId": "01206615471624868818"
     },
     "user_tz": -480
    },
    "id": "XhK2Nsua7XAf",
    "outputId": "e7e8e27a-7d89-4d1d-95f6-4ef6b432fd46"
   },
   "outputs": [
    {
     "data": {
      "text/plain": [
       "0.39266211604095563"
      ]
     },
     "execution_count": 32,
     "metadata": {},
     "output_type": "execute_result"
    }
   ],
   "source": [
    "# Best accuracy score obtained by the above combination of hyperparameters.\n",
    "\n",
    "rfc_gs.best_score_"
   ]
  },
  {
   "cell_type": "code",
   "execution_count": 33,
   "metadata": {
    "colab": {
     "base_uri": "https://localhost:8080/",
     "height": 34
    },
    "colab_type": "code",
    "executionInfo": {
     "elapsed": 1984,
     "status": "ok",
     "timestamp": 1592681022210,
     "user": {
      "displayName": "Prerak Agarwal",
      "photoUrl": "",
      "userId": "01206615471624868818"
     },
     "user_tz": -480
    },
    "id": "_PS9U7AbXbt4",
    "outputId": "a6cc31db-c1bd-421b-f82f-3c804074e690"
   },
   "outputs": [
    {
     "data": {
      "text/plain": [
       "0.6679180887372014"
      ]
     },
     "execution_count": 33,
     "metadata": {},
     "output_type": "execute_result"
    }
   ],
   "source": [
    "# Scoring the model on training dataset.\n",
    "# Training Accuracy\n",
    "\n",
    "rfc_train_acc = rfc_gs.score(X_train_sc, y_train)\n",
    "rfc_train_acc"
   ]
  },
  {
   "cell_type": "code",
   "execution_count": 34,
   "metadata": {
    "colab": {},
    "colab_type": "code",
    "id": "pJgeCilJXbjj"
   },
   "outputs": [],
   "source": [
    "# Estimated Testing Accuracy\n",
    "\n",
    "# rfc_est_test_acc = cross_val_score(rfc_gs, X_train_sc, y_train, cv=5).mean()\n",
    "# rfc_est_test_acc"
   ]
  },
  {
   "cell_type": "code",
   "execution_count": 35,
   "metadata": {
    "colab": {
     "base_uri": "https://localhost:8080/",
     "height": 34
    },
    "colab_type": "code",
    "executionInfo": {
     "elapsed": 1556,
     "status": "ok",
     "timestamp": 1592681027039,
     "user": {
      "displayName": "Prerak Agarwal",
      "photoUrl": "",
      "userId": "01206615471624868818"
     },
     "user_tz": -480
    },
    "id": "sgqlqgUjXbZ2",
    "outputId": "7c9d96ae-37c6-46b7-a644-bd47dffc95ac"
   },
   "outputs": [
    {
     "data": {
      "text/plain": [
       "0.39806888313756716"
      ]
     },
     "execution_count": 35,
     "metadata": {},
     "output_type": "execute_result"
    }
   ],
   "source": [
    "# Actual Testing Accuracy\n",
    "\n",
    "rfc_test_acc = rfc_gs.score(X_test_sc, y_test)\n",
    "rfc_test_acc"
   ]
  },
  {
   "cell_type": "code",
   "execution_count": 36,
   "metadata": {
    "colab": {
     "base_uri": "https://localhost:8080/",
     "height": 119
    },
    "colab_type": "code",
    "executionInfo": {
     "elapsed": 1012,
     "status": "ok",
     "timestamp": 1592681034365,
     "user": {
      "displayName": "Prerak Agarwal",
      "photoUrl": "",
      "userId": "01206615471624868818"
     },
     "user_tz": -480
    },
    "id": "hMM6x4xjdD03",
    "outputId": "3aa2273d-bc47-47ca-8b43-fef5b92cc707"
   },
   "outputs": [
    {
     "name": "stdout",
     "output_type": "stream",
     "text": [
      "RandomForestClassifier summary of accuracy scores:\n",
      "GridSearchCV best accuracy (cv=5) = 0.393\n",
      "\n",
      "Using GridSearchCV best params suggested,\n",
      "Training accuracy = 0.668\n",
      "Testing accuracy = 0.398\n"
     ]
    }
   ],
   "source": [
    "# Summary scores from GridSearchCV with RandomForestClassifier.\n",
    "\n",
    "print(\"RandomForestClassifier summary of accuracy scores:\")\n",
    "print(f\"GridSearchCV best accuracy (cv=5) = {round(rfc_gs.best_score_, 3)}\")\n",
    "print(\"\\nUsing GridSearchCV best params suggested,\")\n",
    "print(f\"Training accuracy = {round(rfc_train_acc, 3)}\")\n",
    "# print(f\"Est. Test accuracy (cv=5) = {round(rfc_est_test_acc , 3)}\")\n",
    "print(f\"Testing accuracy = {round(rfc_test_acc, 3)}\")"
   ]
  },
  {
   "cell_type": "code",
   "execution_count": 37,
   "metadata": {
    "colab": {},
    "colab_type": "code",
    "id": "LZl8e_uqXD07"
   },
   "outputs": [],
   "source": [
    "# Generating predictions on testing dataset using the model above.\n",
    "\n",
    "rfc_pred = rfc_gs.predict(X_test_sc)"
   ]
  },
  {
   "cell_type": "code",
   "execution_count": 38,
   "metadata": {
    "colab": {
     "base_uri": "https://localhost:8080/",
     "height": 34
    },
    "colab_type": "code",
    "executionInfo": {
     "elapsed": 1394,
     "status": "ok",
     "timestamp": 1592681041887,
     "user": {
      "displayName": "Prerak Agarwal",
      "photoUrl": "",
      "userId": "01206615471624868818"
     },
     "user_tz": -480
    },
    "id": "sJX6bMeAAMiR",
    "outputId": "227d2be2-0009-4911-bbc0-968e0aad9c3c"
   },
   "outputs": [
    {
     "data": {
      "text/plain": [
       "10046"
      ]
     },
     "execution_count": 38,
     "metadata": {},
     "output_type": "execute_result"
    }
   ],
   "source": [
    "len(rfc_pred)"
   ]
  },
  {
   "cell_type": "code",
   "execution_count": 39,
   "metadata": {
    "colab": {
     "base_uri": "https://localhost:8080/",
     "height": 34
    },
    "colab_type": "code",
    "executionInfo": {
     "elapsed": 1047,
     "status": "ok",
     "timestamp": 1592681042484,
     "user": {
      "displayName": "Prerak Agarwal",
      "photoUrl": "",
      "userId": "01206615471624868818"
     },
     "user_tz": -480
    },
    "id": "kncpN4qcAMcJ",
    "outputId": "02dd2df2-0902-4c56-de9d-5ed88c395366"
   },
   "outputs": [
    {
     "data": {
      "text/plain": [
       "10046"
      ]
     },
     "execution_count": 39,
     "metadata": {},
     "output_type": "execute_result"
    }
   ],
   "source": [
    "len(y_test)"
   ]
  },
  {
   "cell_type": "code",
   "execution_count": 44,
   "metadata": {
    "colab": {
     "base_uri": "https://localhost:8080/",
     "height": 204
    },
    "colab_type": "code",
    "executionInfo": {
     "elapsed": 923,
     "status": "ok",
     "timestamp": 1592681043913,
     "user": {
      "displayName": "Prerak Agarwal",
      "photoUrl": "",
      "userId": "01206615471624868818"
     },
     "user_tz": -480
    },
    "id": "r6Ts2MXVAMXc",
    "outputId": "1393ee25-e8d1-48ee-dd1f-13ec2370faea"
   },
   "outputs": [
    {
     "data": {
      "text/plain": [
       "array([[858,  19,   5,  35,  11,   0,   4,  11,   6,   1,   8],\n",
       "       [218, 369,  76,  93,  17,   1,   2,  36,  19,   6,   8],\n",
       "       [ 70,  39, 398, 254,  39,   0,  21,  58,  29,  12,  21],\n",
       "       [ 42,  30,  49, 647,  70,  16,  29,  84,  36,  20,  19],\n",
       "       [ 77,  13,  30, 395, 197,   8,  50, 136,  27,  18,  14],\n",
       "       [ 30,  23,  39, 371, 122,  42,  36, 159,  47,  19,  31],\n",
       "       [ 41,  19,  48, 280,  98,  11,  91, 186,  68,  48,  36],\n",
       "       [ 34,  12,  33, 188,  96,   9,  31, 359,  98,  59,  43],\n",
       "       [ 25,  14,  47,  99,  49,   5,  23, 159, 262,  67,  90],\n",
       "       [ 32,  13,  35,  91,  50,   3,  11, 137,  88, 263, 116],\n",
       "       [ 22,   6,  36,  29,  19,   3,   5,  97,  37,  42, 513]],\n",
       "      dtype=int64)"
      ]
     },
     "execution_count": 44,
     "metadata": {},
     "output_type": "execute_result"
    }
   ],
   "source": [
    "# Generating a confusion matrix based on above predictions.\n",
    "\n",
    "conf_mat_rfc = confusion_matrix(y_test, rfc_pred)\n",
    "conf_mat_rfc"
   ]
  },
  {
   "cell_type": "code",
   "execution_count": 45,
   "metadata": {
    "colab": {},
    "colab_type": "code",
    "id": "-HKiyywLAMTd"
   },
   "outputs": [],
   "source": [
    "# Defining a function to plot the confusion matrix in a grid for easier visualization.\n",
    "\n",
    "def plot_confusion_matrix(cm, classes, normalize=False, title='Confusion Matrix', export_as='confusion_matrix', cmap=plt.cm.Blues):\n",
    "    \"\"\"\n",
    "    This function prints and plots the confusion matrix.\n",
    "    Normalization can be applied by setting `normalize=True`.\n",
    "    \"\"\"\n",
    "    if normalize:\n",
    "        cm = cm.astype('float') / cm.sum(axis=1)[:, np.newaxis]\n",
    "        print(\"Normalized confusion matrix\")\n",
    "    else:\n",
    "        print('Confusion matrix, without normalization')\n",
    "\n",
    "    # print(cm)\n",
    "\n",
    "    plt.imshow(cm, interpolation='nearest', cmap=cmap)\n",
    "    plt.title(title, fontsize=16)\n",
    "    plt.colorbar()\n",
    "    tick_marks = np.arange(len(classes))\n",
    "    plt.xticks(tick_marks, classes, rotation=45)\n",
    "    plt.yticks(tick_marks, classes)\n",
    "\n",
    "    fmt = '.2f' if normalize else 'd'\n",
    "    thresh = cm.max() / 2.\n",
    "    for i, j in itertools.product(range(cm.shape[0]), range(cm.shape[1])):\n",
    "        plt.text(j, i, format(cm[i, j], fmt), horizontalalignment=\"center\", color=\"white\" if cm[i, j] > thresh else \"black\")\n",
    "\n",
    "    plt.tight_layout()\n",
    "    plt.ylabel('True labels', fontsize=14)\n",
    "    plt.xlabel('Predicted labels', fontsize=14)\n",
    "\n",
    "    # Exporting plot image in PNG format.\n",
    "    plt.savefig('./Plot Images/{export_as}.png', bbox_inches='tight');"
   ]
  },
  {
   "cell_type": "code",
   "execution_count": 46,
   "metadata": {
    "colab": {
     "base_uri": "https://localhost:8080/",
     "height": 620
    },
    "colab_type": "code",
    "executionInfo": {
     "elapsed": 1267538,
     "status": "ok",
     "timestamp": 1592732040130,
     "user": {
      "displayName": "Prerak Agarwal",
      "photoUrl": "",
      "userId": "01206615471624868818"
     },
     "user_tz": -480
    },
    "id": "UaFs_wbSAMNg",
    "outputId": "28996c31-7b73-48ab-dc78-784d4b7dc0a1"
   },
   "outputs": [
    {
     "name": "stdout",
     "output_type": "stream",
     "text": [
      "Normalized confusion matrix\n"
     ]
    },
    {
     "data": {
      "image/png": "[encoded data removed]",
      "text/plain": [
       "<Figure size 1152x576 with 2 Axes>"
      ]
     },
     "metadata": {
      "needs_background": "light"
     },
     "output_type": "display_data"
    }
   ],
   "source": [
    "# Plotting the NORMALIZED confusion matrix using the function defined above.\n",
    "\n",
    "cm_plot_labels = combined_classes['Age-ranges (classes)']\n",
    "\n",
    "plt.figure(figsize=(16,8))\n",
    "plot_confusion_matrix(conf_mat_rfc, cm_plot_labels, normalize=True,\n",
    "                      title=\"Confusion Matrix based on predictions from\\nRandomForestClassifier model using Canny Edge features\",\n",
    "                      export_as=\"rfc_canny_conf_mat_norm\"\n",
    "                     )\n",
    "\n",
    "plt.show()"
   ]
  },
  {
   "cell_type": "code",
   "execution_count": 47,
   "metadata": {
    "colab": {
     "base_uri": "https://localhost:8080/",
     "height": 620
    },
    "colab_type": "code",
    "executionInfo": {
     "elapsed": 1269100,
     "status": "ok",
     "timestamp": 1592732041875,
     "user": {
      "displayName": "Prerak Agarwal",
      "photoUrl": "",
      "userId": "01206615471624868818"
     },
     "user_tz": -480
    },
    "id": "e0VffwdiAMK_",
    "outputId": "37ddef16-2808-43f3-bc12-a1bede341050"
   },
   "outputs": [
    {
     "name": "stdout",
     "output_type": "stream",
     "text": [
      "Confusion matrix, without normalization\n"
     ]
    },
    {
     "data": {
      "image/png": "[encoded data removed]",
      "text/plain": [
       "<Figure size 1152x576 with 2 Axes>"
      ]
     },
     "metadata": {
      "needs_background": "light"
     },
     "output_type": "display_data"
    }
   ],
   "source": [
    "# Plotting the confusion matrix using the function defined above.\n",
    "\n",
    "cm_plot_labels = combined_classes['Age-ranges (classes)']\n",
    "\n",
    "plt.figure(figsize=(16,8))\n",
    "plot_confusion_matrix(conf_mat_rfc, cm_plot_labels, normalize=False,\n",
    "                      title=\"Confusion Matrix based on predictions from\\nRandomForestClassifier model using Canny Edge features\",\n",
    "                      export_as=\"rfc_canny_conf_mat\"\n",
    "                     )\n",
    "\n",
    "plt.show()"
   ]
  },
  {
   "cell_type": "code",
   "execution_count": 48,
   "metadata": {
    "colab": {},
    "colab_type": "code",
    "id": "kanUFUGCfeHn"
   },
   "outputs": [],
   "source": [
    "# Saving the RandomForestClassifier model from above in a pickle file for possible use later.\n",
    "\n",
    "rfc_pickle = \"./Dataset/rfc_canny_model_acc_{round(rfc_test_acc, 3)}\"\n",
    "pickle.dump(rfc_gs, open(rfc_pickle, 'wb'))"
   ]
  },
  {
   "cell_type": "code",
   "execution_count": 49,
   "metadata": {
    "colab": {},
    "colab_type": "code",
    "id": "Ugy32vM-Iepr"
   },
   "outputs": [],
   "source": [
    "# Creating a SVC object.\n",
    "\n",
    "svc = SVC(# class_weight='balanced',\n",
    "          # C=1.0,\n",
    "          # kernel='rbf',\n",
    "          # degree=3,\n",
    "          random_state=42\n",
    "         )"
   ]
  },
  {
   "cell_type": "code",
   "execution_count": 50,
   "metadata": {
    "colab": {},
    "colab_type": "code",
    "id": "RBp-KF7qIepy"
   },
   "outputs": [],
   "source": [
    "# Establishing ranges of hyperparameters of SVC for GridSearchCV.\n",
    "\n",
    "svc_params = {'C' : [0.001, 1],\n",
    "              'kernel' : ['rbf', 'poly', 'linear'],\n",
    "              'degree' : [3, 5]\n",
    "             }"
   ]
  },
  {
   "cell_type": "code",
   "execution_count": 51,
   "metadata": {
    "colab": {},
    "colab_type": "code",
    "id": "Ma8cs63NIep3"
   },
   "outputs": [],
   "source": [
    "# Creating a GridSearchCV object for the SVC object defined above.\n",
    "\n",
    "svc_gs = GridSearchCV(svc, param_grid=svc_params, n_jobs=-1, cv=5)"
   ]
  },
  {
   "cell_type": "code",
   "execution_count": null,
   "metadata": {
    "colab": {
     "base_uri": "https://localhost:8080/",
     "height": 221
    },
    "colab_type": "code",
    "executionInfo": {
     "elapsed": 49447770,
     "status": "ok",
     "timestamp": 1592730765140,
     "user": {
      "displayName": "Prerak Agarwal",
      "photoUrl": "",
      "userId": "01206615471624868818"
     },
     "user_tz": -480
    },
    "id": "r0GGmqkIIep6",
    "outputId": "2d9e0738-6fe9-425f-a70e-9d25ce986079"
   },
   "outputs": [],
   "source": [
    "# Fitting X_train_sc and y_train on GridSearchCV object with SVC defined above.\n",
    "\n",
    "svc_gs.fit(X_train_sc, y_train)"
   ]
  },
  {
   "cell_type": "code",
   "execution_count": null,
   "metadata": {
    "colab": {
     "base_uri": "https://localhost:8080/",
     "height": 34
    },
    "colab_type": "code",
    "executionInfo": {
     "elapsed": 2278,
     "status": "ok",
     "timestamp": 1592730773367,
     "user": {
      "displayName": "Prerak Agarwal",
      "photoUrl": "",
      "userId": "01206615471624868818"
     },
     "user_tz": -480
    },
    "id": "3mOHtKFAIep_",
    "outputId": "696d0d20-ad3f-47b7-dc7b-43254c401efd"
   },
   "outputs": [],
   "source": [
    "# Best combination of hyperparameters suggested by GridSearchCV.\n",
    "\n",
    "svc_gs.best_params_"
   ]
  },
  {
   "cell_type": "code",
   "execution_count": null,
   "metadata": {
    "colab": {
     "base_uri": "https://localhost:8080/",
     "height": 34
    },
    "colab_type": "code",
    "executionInfo": {
     "elapsed": 2325,
     "status": "ok",
     "timestamp": 1592730773707,
     "user": {
      "displayName": "Prerak Agarwal",
      "photoUrl": "",
      "userId": "01206615471624868818"
     },
     "user_tz": -480
    },
    "id": "_a3b5sMSIeqE",
    "outputId": "8a0ae6a1-ef9b-4a17-8712-5cb2c4c3a6bb"
   },
   "outputs": [],
   "source": [
    "# Best accuracy score obtained by the above combination of hyperparameters.\n",
    "\n",
    "svc_gs.best_score_"
   ]
  },
  {
   "cell_type": "code",
   "execution_count": null,
   "metadata": {
    "colab": {
     "base_uri": "https://localhost:8080/",
     "height": 34
    },
    "colab_type": "code",
    "executionInfo": {
     "elapsed": 681214,
     "status": "ok",
     "timestamp": 1592731452720,
     "user": {
      "displayName": "Prerak Agarwal",
      "photoUrl": "",
      "userId": "01206615471624868818"
     },
     "user_tz": -480
    },
    "id": "79pHqV1sIeqH",
    "outputId": "4825a8f2-22b2-42c0-a82f-177d4c98ef53"
   },
   "outputs": [],
   "source": [
    "# Scoring the model on training dataset.\n",
    "# Training Accuracy\n",
    "\n",
    "svc_train_acc = svc_gs.score(X_train_sc, y_train)\n",
    "svc_train_acc"
   ]
  },
  {
   "cell_type": "code",
   "execution_count": null,
   "metadata": {
    "colab": {},
    "colab_type": "code",
    "id": "p3ARfNIHIeqM"
   },
   "outputs": [],
   "source": [
    "# Estimated Testing Accuracy\n",
    "\n",
    "# svc_est_test_acc = cross_val_score(svc_gs, X_train_sc, y_train, cv=5).mean()\n",
    "# svc_est_test_acc"
   ]
  },
  {
   "cell_type": "code",
   "execution_count": null,
   "metadata": {
    "colab": {
     "base_uri": "https://localhost:8080/",
     "height": 34
    },
    "colab_type": "code",
    "executionInfo": {
     "elapsed": 971653,
     "status": "ok",
     "timestamp": 1592731743240,
     "user": {
      "displayName": "Prerak Agarwal",
      "photoUrl": "",
      "userId": "01206615471624868818"
     },
     "user_tz": -480
    },
    "id": "jerm3xXVIeqT",
    "outputId": "7488fc09-d520-4faf-a9a1-60a948b545ff"
   },
   "outputs": [
    {
     "data": {
      "text/plain": [
       "0.5337447740394187"
      ]
     },
     "execution_count": 77,
     "metadata": {
      "tags": []
     },
     "output_type": "execute_result"
    }
   ],
   "source": [
    "# Actual Testing Accuracy\n",
    "\n",
    "svc_test_acc = svc_gs.score(X_test_sc, y_test)\n",
    "svc_test_acc"
   ]
  },
  {
   "cell_type": "code",
   "execution_count": null,
   "metadata": {
    "colab": {
     "base_uri": "https://localhost:8080/",
     "height": 119
    },
    "colab_type": "code",
    "executionInfo": {
     "elapsed": 971582,
     "status": "ok",
     "timestamp": 1592731743244,
     "user": {
      "displayName": "Prerak Agarwal",
      "photoUrl": "",
      "userId": "01206615471624868818"
     },
     "user_tz": -480
    },
    "id": "WJ5cRmSXIeqY",
    "outputId": "79debcf2-9948-43c9-893a-4ea1e3f3a53f"
   },
   "outputs": [
    {
     "name": "stdout",
     "output_type": "stream",
     "text": [
      "SVC summary of accuracy scores:\n",
      "GridSearchCV best accuracy = 0.49\n",
      "\n",
      "Using GridSearchCV best params suggested,\n",
      "Training accuracy = 0.929\n",
      "Testing accuracy = 0.534\n"
     ]
    }
   ],
   "source": [
    "# Summary scores from GridSearchCV with SVC.\n",
    "\n",
    "print(\"SVC summary of accuracy scores:\")\n",
    "print(f\"GridSearchCV best accuracy = {round(svc_gs.best_score_, 3)}\")\n",
    "print(\"\\nUsing GridSearchCV best params suggested,\")\n",
    "print(f\"Training accuracy = {round(svc_train_acc, 3)}\")\n",
    "# print(f\"Est. Test accuracy (cv=5) = {round(svc_est_test_acc , 3)}\")\n",
    "print(f\"Testing accuracy = {round(svc_test_acc, 3)}\")"
   ]
  },
  {
   "cell_type": "code",
   "execution_count": null,
   "metadata": {
    "colab": {},
    "colab_type": "code",
    "id": "CLOvdsivIeqd"
   },
   "outputs": [],
   "source": [
    "# Generating predictions on testing dataset using the model above.\n",
    "\n",
    "svc_pred = svc_gs.predict(X_test_sc)"
   ]
  },
  {
   "cell_type": "code",
   "execution_count": null,
   "metadata": {
    "colab": {
     "base_uri": "https://localhost:8080/",
     "height": 34
    },
    "colab_type": "code",
    "executionInfo": {
     "elapsed": 1262935,
     "status": "ok",
     "timestamp": 1592732034897,
     "user": {
      "displayName": "Prerak Agarwal",
      "photoUrl": "",
      "userId": "01206615471624868818"
     },
     "user_tz": -480
    },
    "id": "wtC766v1Ieqg",
    "outputId": "5ca0db15-4906-4d76-90a4-b645b78e70cf"
   },
   "outputs": [
    {
     "data": {
      "text/plain": [
       "10046"
      ]
     },
     "execution_count": 80,
     "metadata": {
      "tags": []
     },
     "output_type": "execute_result"
    }
   ],
   "source": [
    "len(svc_pred)"
   ]
  },
  {
   "cell_type": "code",
   "execution_count": null,
   "metadata": {
    "colab": {
     "base_uri": "https://localhost:8080/",
     "height": 34
    },
    "colab_type": "code",
    "executionInfo": {
     "elapsed": 1262626,
     "status": "ok",
     "timestamp": 1592732034903,
     "user": {
      "displayName": "Prerak Agarwal",
      "photoUrl": "",
      "userId": "01206615471624868818"
     },
     "user_tz": -480
    },
    "id": "LwlT4yZlIeql",
    "outputId": "5530c4c9-5a29-4b95-9ae3-73cf126c36ca"
   },
   "outputs": [
    {
     "data": {
      "text/plain": [
       "10046"
      ]
     },
     "execution_count": 81,
     "metadata": {
      "tags": []
     },
     "output_type": "execute_result"
    }
   ],
   "source": [
    "len(y_test)"
   ]
  },
  {
   "cell_type": "code",
   "execution_count": null,
   "metadata": {
    "colab": {
     "base_uri": "https://localhost:8080/",
     "height": 204
    },
    "colab_type": "code",
    "executionInfo": {
     "elapsed": 1262526,
     "status": "ok",
     "timestamp": 1592732034905,
     "user": {
      "displayName": "Prerak Agarwal",
      "photoUrl": "",
      "userId": "01206615471624868818"
     },
     "user_tz": -480
    },
    "id": "lLC1lT4JIeqp",
    "outputId": "c68c2f3b-12db-498c-ce02-72d29d12be11"
   },
   "outputs": [
    {
     "data": {
      "text/plain": [
       "array([[881,  19,   1,  10,  12,   3,  19,  12,   0,   0,   1],\n",
       "       [ 61, 588,  34,  70,  20,   9,  36,  24,   2,   1,   0],\n",
       "       [  8,  36, 533, 219,  43,  18,  36,  32,   7,   4,   5],\n",
       "       [  2,   4,  34, 709, 110,  59,  64,  51,   3,   2,   4],\n",
       "       [  4,   9,  12, 293, 400,  61,  98,  63,   6,  10,   9],\n",
       "       [  0,   6,  13, 267, 140, 258, 114,  91,  16,   6,   8],\n",
       "       [  1,   5,   9, 177, 133,  64, 334, 159,  30,   8,   6],\n",
       "       [  2,   3,  10,  98, 105,  48, 146, 485,  38,  15,  12],\n",
       "       [  2,   9,  13,  51,  54,  21,  92, 213, 320,  47,  18],\n",
       "       [  2,   5,  13,  57,  43,  17,  96, 172,  57, 332,  45],\n",
       "       [  0,   6,  15,  18,  22,  11,  42,  97,  32,  44, 522]])"
      ]
     },
     "execution_count": 82,
     "metadata": {
      "tags": []
     },
     "output_type": "execute_result"
    }
   ],
   "source": [
    "# Generating a confusion matrix based on above predictions.\n",
    "\n",
    "conf_mat_svc = confusion_matrix(y_test, svc_pred)\n",
    "conf_mat_svc"
   ]
  },
  {
   "cell_type": "code",
   "execution_count": null,
   "metadata": {
    "colab": {
     "base_uri": "https://localhost:8080/",
     "height": 620
    },
    "colab_type": "code",
    "executionInfo": {
     "elapsed": 1264305,
     "status": "ok",
     "timestamp": 1592732036779,
     "user": {
      "displayName": "Prerak Agarwal",
      "photoUrl": "",
      "userId": "01206615471624868818"
     },
     "user_tz": -480
    },
    "id": "TXVRkxYGIeqx",
    "outputId": "085f1099-d82a-4564-eff8-7baf3690522f"
   },
   "outputs": [
    {
     "name": "stdout",
     "output_type": "stream",
     "text": [
      "Normalized confusion matrix\n"
     ]
    },
    {
     "data": {
      "image/png": "[encoded data removed]",
      "text/plain": [
       "<Figure size 1152x576 with 2 Axes>"
      ]
     },
     "metadata": {
      "needs_background": "light",
      "tags": []
     },
     "output_type": "display_data"
    }
   ],
   "source": [
    "# Plotting the NORMALIZED confusion matrix using the function defined above.\n",
    "\n",
    "cm_plot_labels = combined_classes['Age-ranges (classes)']\n",
    "\n",
    "plt.figure(figsize=(16,8))\n",
    "plot_confusion_matrix(conf_mat_svc, cm_plot_labels, normalize=True,\n",
    "                      title=\"Confusion Matrix based on predictions from\\nSVC model using Canny Edge features\",\n",
    "                      export_as=\"svc_canny_conf_mat_norm\"\n",
    "                     )\n",
    "\n",
    "plt.show()"
   ]
  },
  {
   "cell_type": "code",
   "execution_count": null,
   "metadata": {
    "colab": {
     "base_uri": "https://localhost:8080/",
     "height": 620
    },
    "colab_type": "code",
    "executionInfo": {
     "elapsed": 1265894,
     "status": "ok",
     "timestamp": 1592732038420,
     "user": {
      "displayName": "Prerak Agarwal",
      "photoUrl": "",
      "userId": "01206615471624868818"
     },
     "user_tz": -480
    },
    "id": "V4aDr8s1Ieq0",
    "outputId": "6c67bbb5-cd00-4fb0-94ef-f5590a030623"
   },
   "outputs": [
    {
     "name": "stdout",
     "output_type": "stream",
     "text": [
      "Confusion matrix, without normalization\n"
     ]
    },
    {
     "data": {
      "image/png": "[encoded data removed]",
      "text/plain": [
       "<Figure size 1152x576 with 2 Axes>"
      ]
     },
     "metadata": {
      "needs_background": "light",
      "tags": []
     },
     "output_type": "display_data"
    }
   ],
   "source": [
    "# Plotting the confusion matrix using the function defined above.\n",
    "\n",
    "cm_plot_labels = combined_classes['Age-ranges (classes)']\n",
    "\n",
    "plt.figure(figsize=(16,8))\n",
    "plot_confusion_matrix(conf_mat_svc, cm_plot_labels, normalize=False,\n",
    "                      title=\"Confusion Matrix based on predictions from\\nSVC model using Canny Edge features\",\n",
    "                      export_as=\"svc_canny_conf_mat\"\n",
    "                     )\n",
    "\n",
    "plt.show()"
   ]
  },
  {
   "cell_type": "markdown",
   "metadata": {
    "colab_type": "text",
    "id": "l-6yEvYtftzl"
   },
   "source": [
    "As with the *RandomForestClassifier* model above, the ***SVC* model**, with a training accuracy of 92.9% and a testing accuracy of 53.4%, also shows that it is **over-fitting and not generalizing well on unseen testing data**. Even though the training and testing accuracies are better with *SVC* than with *RandomForestClassifier*, the **degree of over-fit is significantly worse than *RandomForestClassifier***.\n",
    "\n",
    "The **normalized confusion matrix** above also show the same trend — even though the accuracy values are somewhat high for the younger age-ranges (of 1–2, 3–9, 10–20 and 21–25) and for the older age ranges (of 66–116), there is a **presence of significant misclassification for the middle age-ranges of 26–65**."
   ]
  },
  {
   "cell_type": "code",
   "execution_count": null,
   "metadata": {
    "colab": {},
    "colab_type": "code",
    "id": "xFpFMjikYc9v"
   },
   "outputs": [],
   "source": [
    "# Saving the SVC model from above in a pickle file for possible use later.\n",
    "\n",
    "svc_pickle = f\"/content/drive/My Drive/Age_Classification_with_Faces/input_output/svc_canny_model_acc_{round(svc_test_acc, 3)}\"\n",
    "pickle.dump(svc_gs, open(svc_pickle, 'wb'))"
   ]
  }
 ],
 "metadata": {
  "colab": {
   "authorship_tag": "ABX9TyPJeBvb34DTIDgIheddO20v",
   "collapsed_sections": [],
   "name": "3_ML_classification_modelling.ipynb",
   "provenance": [],
   "toc_visible": true
  },
  "kernelspec": {
   "display_name": "Python 3 (ipykernel)",
   "language": "python",
   "name": "python3"
  },
  "language_info": {
   "codemirror_mode": {
    "name": "ipython",
    "version": 3
   },
   "file_extension": ".py",
   "mimetype": "text/x-python",
   "name": "python",
   "nbconvert_exporter": "python",
   "pygments_lexer": "ipython3",
   "version": "3.7.11"
  }
 },
 "nbformat": 4,
 "nbformat_minor": 1
}
