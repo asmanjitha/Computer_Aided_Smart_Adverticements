{
 "cells": [
  {
   "cell_type": "code",
   "execution_count": 2,
   "id": "72e2b9a0",
   "metadata": {},
   "outputs": [],
   "source": [
    "import cv2\n",
    "import matplotlib.pyplot as plt\n",
    "import os\n",
    "\n"
   ]
  },
  {
   "cell_type": "code",
   "execution_count": null,
   "id": "4ada65da",
   "metadata": {},
   "outputs": [],
   "source": [
    "# img = cv2.imread(\"../../Dataset/Gender Detection/gender-classification-dataset/Training/female/131422.jpg\", cv2.IMREAD_COLOR)\n",
    "# plt.imshow(img)\n",
    "\n",
    "datasetpath = \"../../Dataset/Gender Detection/gender-classification-dataset\";\n",
    "\n",
    "datasets = [\"/Training/female\", \"/Training/male\", \"/Validation/female\", \"/Validation/male\"]\n",
    "\n",
    "\n",
    "for dataset in datasets:\n",
    "    dirurl = datasetpath + dataset \n",
    "    for count, filename in enumerate(os.listdir(dirurl)):\n",
    "        if(filename[-8:] == \".jpg.jpg\"):\n",
    "            src = dirurl + \"/\" + filename\n",
    "            dst = dirurl + \"/\" + filename[:-4]\n",
    "            os.rename(src, dst)\n",
    "            print(filename , dst)\n",
    "        \n",
    "        img = cv2.imread(dirurl + \"/\" + filename)\n",
    "        dim = (73, 100)\n",
    "        \n",
    "        resized = cv2.resize(img, dim, interpolation = cv2.INTER_AREA)\n",
    "        cv2.imwrite(dirurl + \"/\" + filename, resized)\n",
    "        \n",
    "        \n",
    "\n",
    " \n"
   ]
  },
  {
   "cell_type": "code",
   "execution_count": null,
   "id": "6392131f",
   "metadata": {},
   "outputs": [],
   "source": [
    "# To hold the window on screen, we use cv2.waitKey method\n",
    "# Once it detected the close input, it will release the control\n",
    "# To the next line\n",
    "# First Parameter is for holding screen for specified milliseconds\n",
    "# It should be positive integer. If 0 pass an parameter, then it will\n",
    "# hold the screen until user close it.\n",
    "cv2.waitKey(0)\n",
    " \n",
    "# It is for removing/deleting created GUI window from screen\n",
    "# and memory\n",
    "cv2.destroyAllWindows()"
   ]
  },
  {
   "cell_type": "code",
   "execution_count": null,
   "id": "ebaa5926",
   "metadata": {},
   "outputs": [],
   "source": []
  }
 ],
 "metadata": {
  "kernelspec": {
   "display_name": "Python 3 (ipykernel)",
   "language": "python",
   "name": "python3"
  },
  "language_info": {
   "codemirror_mode": {
    "name": "ipython",
    "version": 3
   },
   "file_extension": ".py",
   "mimetype": "text/x-python",
   "name": "python",
   "nbconvert_exporter": "python",
   "pygments_lexer": "ipython3",
   "version": "3.7.11"
  }
 },
 "nbformat": 4,
 "nbformat_minor": 5
}
